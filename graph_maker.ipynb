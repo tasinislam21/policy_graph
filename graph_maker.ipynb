{
 "cells": [
  {
   "cell_type": "code",
   "id": "initial_id",
   "metadata": {
    "collapsed": true,
    "ExecuteTime": {
     "end_time": "2025-07-09T13:44:16.995741Z",
     "start_time": "2025-07-09T13:44:16.114602Z"
    }
   },
   "source": [
    "from langchain_ollama import ChatOllama\n",
    "from langchain_neo4j import Neo4jGraph\n",
    "from langchain_experimental.graph_transformers import LLMGraphTransformer\n",
    "from langchain_core.documents import Document"
   ],
   "outputs": [],
   "execution_count": 1
  },
  {
   "metadata": {
    "ExecuteTime": {
     "end_time": "2025-07-09T13:44:17.046915Z",
     "start_time": "2025-07-09T13:44:17.000900Z"
    }
   },
   "cell_type": "code",
   "source": [
    "llm = ChatOllama(\n",
    "    model=\"llama3:8b\",\n",
    "    temperature=0,\n",
    ")"
   ],
   "id": "47360ef16a5195d6",
   "outputs": [],
   "execution_count": 2
  },
  {
   "metadata": {
    "ExecuteTime": {
     "end_time": "2025-07-09T13:45:09.869551Z",
     "start_time": "2025-07-09T13:45:09.849144Z"
    }
   },
   "cell_type": "code",
   "source": [
    "graph = Neo4jGraph(\n",
    "    url=\"neo4j://127.0.0.1:7687\",\n",
    "    username=\"neo4j\",\n",
    "    password=\"qwerty12\",\n",
    "    refresh_schema=False\n",
    "    )\n",
    "\n",
    "def clean_graph():\n",
    "    query = \"\"\"\n",
    "    MATCH (n)\n",
    "    DETACH DELETE n\n",
    "    \"\"\"\n",
    "    graph.query(query)\n",
    "clean_graph()"
   ],
   "id": "f321a7f5ec0c674f",
   "outputs": [],
   "execution_count": 3
  },
  {
   "metadata": {
    "ExecuteTime": {
     "end_time": "2025-07-09T13:47:27.841467Z",
     "start_time": "2025-07-09T13:47:27.834245Z"
    }
   },
   "cell_type": "code",
   "source": [
    "text = \"\"\"\n",
    "Marie Curie, 7 November 1867 – 4 July 1934, was a Polish and naturalised-French physicist and chemist who conducted pioneering research on radioactivity.\n",
    "She was the first woman to win a Nobel Prize, the first person to win a Nobel Prize twice, and the only person to win a Nobel Prize in two scientific fields.\n",
    "Her husband, Pierre Curie, was a co-winner of her first Nobel Prize, making them the first-ever married couple to win the Nobel Prize and launching the Curie family legacy of five Nobel Prizes.\n",
    "She was, in 1906, the first woman to become a professor at the University of Paris.\n",
    "Also, Robin Williams.\n",
    "\"\"\"\n",
    "documents = [Document(page_content=text)]"
   ],
   "id": "7e7932457a8b7666",
   "outputs": [
    {
     "data": {
      "text/plain": [
       "[Document(metadata={}, page_content='\\nMarie Curie, 7 November 1867 – 4 July 1934, was a Polish and naturalised-French physicist and chemist who conducted pioneering research on radioactivity.\\nShe was the first woman to win a Nobel Prize, the first person to win a Nobel Prize twice, and the only person to win a Nobel Prize in two scientific fields.\\nHer husband, Pierre Curie, was a co-winner of her first Nobel Prize, making them the first-ever married couple to win the Nobel Prize and launching the Curie family legacy of five Nobel Prizes.\\nShe was, in 1906, the first woman to become a professor at the University of Paris.\\nAlso, Robin Williams.\\n')]"
      ]
     },
     "execution_count": 5,
     "metadata": {},
     "output_type": "execute_result"
    }
   ],
   "execution_count": 5
  },
  {
   "metadata": {
    "ExecuteTime": {
     "end_time": "2025-07-09T13:53:02.904655Z",
     "start_time": "2025-07-09T13:52:59.706007Z"
    }
   },
   "cell_type": "code",
   "source": [
    "allowed_nodes = [\"Person\", \"Organization\", \"Location\", \"Award\", \"ResearchField\"]\n",
    "allowed_relationships = [(\"Person\", \"SPOUSE\", \"Person\"),\n",
    "    (\"Person\", \"AWARD\", \"Award\"),\n",
    "    (\"Person\", \"WORKS_AT\", \"Organization\"),\n",
    "    (\"Organization\", \"IN_LOCATION\", \"Location\"),\n",
    "    (\"Person\", \"FIELD_OF_RESEARCH\", \"ResearchField\")]\n",
    "node_properties=[\"birth_date\", \"death_date\"]\n",
    "relationship_properties=[\"start_date\"]\n",
    "props_defined = LLMGraphTransformer(\n",
    "  llm=llm, \n",
    "  allowed_nodes=allowed_nodes,\n",
    "  allowed_relationships=allowed_relationships,\n",
    "  node_properties=node_properties,\n",
    "  relationship_properties=relationship_properties,\n",
    "  strict_mode=False\n",
    ")\n",
    "clean_graph()\n",
    "data = await props_defined.aconvert_to_graph_documents(documents)\n",
    "graph.add_graph_documents(data)\n"
   ],
   "id": "6290461dfd2f9d8e",
   "outputs": [],
   "execution_count": 9
  },
  {
   "metadata": {
    "ExecuteTime": {
     "end_time": "2025-07-09T13:50:54.205147Z",
     "start_time": "2025-07-09T13:50:54.201664Z"
    }
   },
   "cell_type": "code",
   "source": "print(data)",
   "id": "30ac2266d74d3ea5",
   "outputs": [
    {
     "name": "stdout",
     "output_type": "stream",
     "text": [
      "[GraphDocument(nodes=[Node(id='Marie Curie', type='Person', properties={}), Node(id='Pierre Curie', type='Person', properties={}), Node(id='Robin Williams', type='Person', properties={})], relationships=[Relationship(source=Node(id='Marie Curie', type='Person', properties={}), target=Node(id='Pierre Curie', type='Person', properties={}), type='HUSBAND', properties={}), Relationship(source=Node(id='Marie Curie', type='Person', properties={}), target=Node(id='University Of Paris', type='Organization', properties={}), type='PROFESSOR', properties={}), Relationship(source=Node(id='Marie Curie', type='Person', properties={}), target=Node(id='Nobel Prize', type='Award', properties={}), type='WINNER', properties={})], source=Document(metadata={}, page_content='\\nMarie Curie, 7 November 1867 – 4 July 1934, was a Polish and naturalised-French physicist and chemist who conducted pioneering research on radioactivity.\\nShe was the first woman to win a Nobel Prize, the first person to win a Nobel Prize twice, and the only person to win a Nobel Prize in two scientific fields.\\nHer husband, Pierre Curie, was a co-winner of her first Nobel Prize, making them the first-ever married couple to win the Nobel Prize and launching the Curie family legacy of five Nobel Prizes.\\nShe was, in 1906, the first woman to become a professor at the University of Paris.\\nAlso, Robin Williams.\\n'))]\n"
     ]
    }
   ],
   "execution_count": 7
  }
 ],
 "metadata": {
  "kernelspec": {
   "display_name": "DiT",
   "language": "python",
   "name": "dit"
  },
  "language_info": {
   "codemirror_mode": {
    "name": "ipython",
    "version": 2
   },
   "file_extension": ".py",
   "mimetype": "text/x-python",
   "name": "python",
   "nbconvert_exporter": "python",
   "pygments_lexer": "ipython2",
   "version": "2.7.6"
  }
 },
 "nbformat": 4,
 "nbformat_minor": 5
}
