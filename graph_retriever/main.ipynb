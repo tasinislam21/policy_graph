{
 "cells": [
  {
   "cell_type": "code",
   "metadata": {
    "ExecuteTime": {
     "end_time": "2025-07-15T13:19:11.779641Z",
     "start_time": "2025-07-15T13:19:11.756472Z"
    }
   },
   "source": [
    "from KG.config import load_neo4j_graph\n",
    "from VectorRAG import query_vector_rag\n",
    "from GraphRAG import generate_cypher_query\n",
    "\n",
    "graph = load_neo4j_graph()"
   ],
   "outputs": [],
   "execution_count": 4
  },
  {
   "metadata": {
    "ExecuteTime": {
     "end_time": "2025-07-15T13:19:12.057656Z",
     "start_time": "2025-07-15T13:19:12.053940Z"
    }
   },
   "cell_type": "code",
   "source": [
    "question = \"How did Napoleon die?\"\n",
    "vector_index_name = 'Chunk'\n",
    "vector_node_label = 'Chunk'\n",
    "vector_source_property= 'text'\n",
    "vector_embedding_property = 'textEmbedding'"
   ],
   "outputs": [],
   "execution_count": 5
  },
  {
   "cell_type": "code",
   "metadata": {
    "ExecuteTime": {
     "end_time": "2025-07-15T13:19:23.618434Z",
     "start_time": "2025-07-15T13:19:12.594941Z"
    }
   },
   "source": "generate_cypher_query(graph=graph, question=question)",
   "outputs": [
    {
     "name": "stdout",
     "output_type": "stream",
     "text": [
      "\n",
      "Task:Generate Cypher statement to query a graph database.\n",
      "\n",
      "Instructions:\n",
      "- Use only the provided relationship types and properties in the schema. \n",
      "- Do not use any other relationship types or properties that are not provided.\n",
      "- Remember the relationships are like Schema: {schema}\n",
      "- Don't filter based on property, only filter based on relationships and return any property that exists in it\n",
      "- If you are not sure about the Section node property, just fetch all\n",
      "Note: Do not include any explanations or apologies in your responses.\n",
      "Do not include any text except the generated Cypher statement. Remember to correct the typo in names\n",
      "\n",
      "Example 1: What was the story of napoleon in the battle of waterloo?\n",
      "MATCH (Napoleon:Person '{{name: \"Napoleon\"}}')-[:RELATED_TO]->(waterloo:Event)-[:HAS_SECTION]->(info:Section)-[:HAS_CHUNK]->(ChunkInfo:Chunk)\n",
      "RETURN ChunkInfo.text\n",
      "\n",
      "Example 2: What was the story of the battle of waterloo?\n",
      "MATCH (waterloo:Event)-[:HAS_SECTION]->(info:Section '{{type: \"General information\"}}')-[:HAS_CHUNK]->(ChunkInfo:Chunk)\n",
      "RETURN ChunkInfo.text\n",
      "\n",
      "Example 3: tell me about Talleyrand and napoleon in 5 lines\n",
      "MATCH (Talleyrand:Person)-[:RELATED_TO]->(Napoleon:Person)-[:HAS_SECTION]->(info:Section '{{type: \"Career\"}}')-[:HAS_CHUNK]->(ChunkInfo:Chunk)\n",
      "RETURN ChunkInfo.text\n",
      "\n",
      "Example 4: How did Napoleon die?\n",
      "MATCH (Napoleon:Person '{{name: \"Napoleon\"}}')-[:HAS_SECTION]->(:Section '{{type: \"Death\"}}')-[:HAS_CHUNK]->(ChunkInfo:Chunk)\n",
      "RETURN ChunkInfo.text\n",
      "\n",
      "Don't use double curly bracket for properties when generating Cypher. Had to do this in the examples because Python cannot escape single bracket.\n",
      "\n",
      "Help:\n",
      "This is all existing property for Node Person and Section:\n",
      "\n",
      "Node Event Properties:\n",
      "    name: \"Battle_of_Waterloo\"\n",
      "\n",
      "Node Person Properties:\n",
      "\n",
      "    name: \"Talleyrand\"\n",
      "    name: \"Napoleon\"\n",
      "\n",
      "Node Section Properties:\n",
      "\n",
      "    parent_name: \"Battle_of_Waterloo\"\n",
      "    type: \"Consequence\"\n",
      "\n",
      "    parent_name: \"Battle_of_Waterloo\"\n",
      "    type: \"General Information\"\n",
      "\n",
      "    parent_name: \"Battle_of_Waterloo\"\n",
      "    type: \"Reason\"\n",
      "\n",
      "    parent_name: \"Battle_of_Waterloo\"\n",
      "    type: \"Combatant\"\n",
      "\n",
      "    parent_name: \"Talleyrand\"\n",
      "    type: \"Career\"\n",
      "\n",
      "    parent_name: \"Talleyrand\"\n",
      "    type: \"Death\"\n",
      "\n",
      "    parent_name: \"Talleyrand\"\n",
      "    type: \"General Information\"\n",
      "\n",
      "    parent_name: \"Napoleon\"\n",
      "    type: \"Career\"\n",
      "\n",
      "    parent_name: \"Napoleon\"\n",
      "    type: \"Death\"\n",
      "\n",
      "    parent_name: \"Napoleon\"\n",
      "    type: \"General Information\"\n",
      "\n",
      "The question is:\n",
      "{question}\n",
      "\n",
      "\n",
      "\u001B[1m> Entering new GraphCypherQAChain chain...\u001B[0m\n",
      "Generated Cypher:\n",
      "\u001B[32;1m\u001B[1;3mMATCH (Napoleon:Person {name: \"Napoleon\"})-[:HAS_SECTION]->(:Section {parent_name: \"Napoleon\", type: \"Death\"})-[:HAS_CHUNK]->(ChunkInfo:Chunk)\n",
      "RETURN ChunkInfo.text\u001B[0m\n",
      "Full Context:\n",
      "\u001B[32;1m\u001B[1;3m[{'ChunkInfo.text': 'Napoleon\\'s health continued to worsen, and in March 1821 he was confined to bed. In April he wrote two wills declaring that he had been murdered by the British, that the Bourbons would fall and that his son would rule France. He left his fortune to 97 legatees and asked to be buried by the Seine.\\nOn 3 May he was given the last rites but could not take communion due to his illness. He died on 5 May 1821 at age 51. His last words, variously recorded by those present, were either France, l\\'armée, tête d\\'armée, Joséphine (\"France, the army, head of the army, Joséphine\"), or qui recule...à la tête d\\'armée (\"who retreats... at the head of the army\") or \"France, my son, the Army.\"\\nAntommarchi and the British wrote separate autopsy reports, each concluding that Napoleon had died of internal bleeding caused by stomach cancer, the disease that had killed his father. A later theory, based on high concentrations of arsenic found in samples of Napoleon\\'s hair, held that Napoleon had died of arsenic poisoning. However, subsequent studies also found high concentrations of arsenic in hair samples from Napoleon\\'s childhood and from his son and Joséphine. Arsenic was widely used in medicines and products such as hair creams in the 19th century. A 2021 study by an international team of gastrointestinal pathologists once again concluded that Napoleon died of stomach cancer.'}, {'ChunkInfo.text': \"Napoleon was buried with military honors in the Valley of the Geraniums. Napoleon's heart and intestines were removed and sealed inside his coffin. Napoleon's penis was allegedly removed during the autopsy and sold and exhibited. In 1840, the British government gave Louis Philippe I permission to return Napoleon's remains to France. Napoleon's body was exhumed and found to be well preserved as it had been sealed in four coffins (two of metal and two of mahogany) and placed in a masonry tomb. On 15 December 1840, a state funeral was held in Paris with 700,000-1,000,000 attendees who lined the route of the funeral procession to the chapel of Les Invalides. The coffin was later placed in the cupola in St Jérôme's Chapel, where it remained until Napoleon's tomb, designed by Louis Visconti, was completed. In 1861, during the reign of Napoleon III, his remains were entombed in a sarcophagus in the crypt under the dome at Les Invalides.\"}, {'ChunkInfo.text': 'There is debate over whether Napoleon was \"an enlightened despot who laid the foundations of modern Europe\" or \"a megalomaniac who wrought greater misery than any man before the coming of Hitler\". He was compared to Adolf Hitler by Pieter Geyl in 1947, and Claude Ribbe in 2005. Most modern critics of Napoleon, however, reject the Hitler comparison, arguing that Napoleon did not commit genocide and did not engage in the mass murder and imprisonment of his political opponents. Nevertheless, Bell and McLynn condemn his killing of 3,000-5,000 Turkish prisoners of war in Syria.\\nA number of historians have argued that his expansionist foreign policy was a major factor in the Napoleonic wars which cost six million lives and caused economic disruption for a generation. McLynn and Barnett suggest that Napoleon\\'s reputation as a military genius is exaggerated. Cobban and Conner argue that Napoleon had insufficient regard for the lives of his soldiers and that his battle tactics led to excessive casualties.\\nCritics also cite Napoleon\\'s exploitation of conquered territories. To finance his wars, Napoleon increased taxes and levies of troops from annexed territories and satellite states. He also introduced discriminatory tariff policies which promoted French trade at the expense of allies and satellite states. He institutionalized plunder: French museums contain art stolen by Napoleon\\'s forces from across Europe. Artefacts were brought to the Musée du Louvre for a grand central museum; an example which would later be followed by others.'}, {'ChunkInfo.text': \"Many historians have criticized Napoleon's authoritarian rule, especially after 1807, which included censorship, the closure of independent newspapers, the bypassing of direct elections and representative government, the dismissal of judges showing independence, and the exile of critics of the regime. Historians also blame Napoleon for reducing the civil rights of women, children and people of colour, and reintroducing the legal penalties of civil death and confiscation of property. His reintroduction of an hereditary monarchy and nobility remains controversial. His role in the Haitian Revolution and decision to reinstate slavery in France's colonies in the Caribbean and Indian Ocean adversely affect his reputation.\"}, {'ChunkInfo.text': \"Napoleon's use of propaganda contributed to his rise to power, legitimated his regime, and established his image for posterity. Strict censorship and control of the press, books, theatre, and art were part of his propaganda scheme, aimed at portraying him as bringing peace and stability to France. Propaganda focused on his role first as a general then as a civil leader and emperor. He fostered a relationship with artists, commissioning and controlling different forms of art to suit his propaganda goals.\\nNapoleonic propaganda survived his exile to Saint Helena. Las Cases, who was with Napoleon in exile, published The Memorial of Saint Helena in 1822, creating a legend of Napoleon as a liberal, visionary proponent of European unification, deposed by reactionary elements of the Ancien Régime. Napoleon remained a central figure in the romantic art and literature of the 1820s and 1830s.\\nThe Napoleonic legend played a key role in collective political defiance of the Bourbon restoration monarchy in 1815–1830. People from different walks of life and areas of France, particularly Napoleonic veterans, drew on the Napoleonic legacy and its connections with the ideals of the 1789 Revolution. The defiance manifested itself in seditious materials, displaying the tricolour and rosettes. There were also subversive activities celebrating anniversaries of Napoleon's life and reign and disrupting royal celebrations.\\nBell sees the return of Napoleon's remains to France in 1840 as an attempt by Louis-Phillipe to prop up his unpopular regime by associating it with Napoleon, and that the regime of Napoleon III was only possible due to the continued resonance of the Napoleonic legend.\\nVenita Datta argues that following the collapse of militaristic Boulangism in the late 1880s, the Napoleonic legend was divorced from party politics and revived in popular culture. Writers and critics of the Belle Époque exploited the Napoleonic legend for diverse political and cultural ends.\"}, {'ChunkInfo.text': 'In the 21st century, Napoleon appears regularly in popular fiction, drama and advertising. Napoleon and his era remain major topics of historical research with a sharp increase in historical books, articles and symposia during the bicentenary years of 1999 to 2015.'}, {'ChunkInfo.text': \"Napoleon was responsible for spreading many of the values of the French Revolution to other countries, especially through the Napoleonic Code. After the fall of Napoleon, it continued to influence the law in western Europe and other parts of the world including Latin America, the Dominican Republic, Louisiana and Quebec.\\nNapoleon's regime abolished remnants of feudalism in the lands he conquered and in his satellite states. He liberalized property laws, ended manorialism, abolished the guild of merchants and craftsmen to facilitate entrepreneurship, legalized divorce, closed the Jewish ghettos and ended the Spanish Inquisition. The power of church courts and religious authority was sharply reduced and equality before the law was proclaimed for all men.\\nNapoleon reorganized what had been the Holy Roman Empire, made up of about three hundred Kleinstaaterei, into a more streamlined forty-state Confederation of the Rhine; this helped promote the German Confederation and the unification of Germany in 1871, as it sparked a new wave of German nationalism that opposed the French intervention.\\nThe movement toward Italian unification was similarly sparked by Napoleonic rule. These changes contributed to the development of nationalism and the nation state.\\nThe Napoleonic invasion of Spain and ousting of the Spanish Bourbon monarchy had a significant impact on Spanish America. Many local elites sought to rule in the name of Ferdinand VII of Spain, whom they considered the legitimate monarch. Napoleon indirectly began the process of Latin American independence when the power vacuum was filled by local political leaders such as Simón Bolívar and José de San Martín. Such leaders embraced nationalistic sentiments influenced by French nationalism and led successful independence movements in Latin America.\\nNapoleon's reputation is generally favourable in Poland which is the only country in the world to evoke him in its national anthem, Poland Is Not Yet Lost.\"}, {'ChunkInfo.text': 'Napoleon married Joséphine in 1796, but the marriage produced no children. In 1806, he adopted his step-son, Eugène de Beauharnais (1781–1824), and his second cousin, Stéphanie de Beauharnais (1789–1860), and arranged dynastic marriages for them.\\nNapoleon\\'s marriage to Marie Louise produced one child, Napoleon Francis Joseph Charles (Napoleon II) (1811–1832), known from birth as the King of Rome. When Napoleon abdicated in 1815 he named his son his successor as \"Napoleon II\", but the allies refused to recognize him. He was awarded the title of the Duke of Reichstadt in 1818 and died of tuberculosis aged 21, with no children.\\nNapoleon acknowledged one illegitimate son: Charles Léon (1806–1881) by Eléonore Denuelle de La Plaigne. Alexandre Colonna-Walewski (1810–1868), the son of his Polish mistress Maria Walewska, was also widely known to be his child, as DNA evidence has confirmed. He may have had further illegitimate offspring.\\nBonapartism involves the restoration of the House of Bonaparte, the successors of Napoleon to the throne of France.'}]\u001B[0m\n",
      "\n",
      "\u001B[1m> Finished chain.\u001B[0m\n"
     ]
    },
    {
     "data": {
      "text/plain": [
       "'Napoleon died on 5 May 1821 at age 51 due to internal\\nbleeding caused by stomach cancer.'"
      ]
     },
     "execution_count": 6,
     "metadata": {},
     "output_type": "execute_result"
    }
   ],
   "execution_count": 6
  },
  {
   "metadata": {
    "ExecuteTime": {
     "end_time": "2025-07-15T12:37:15.324108Z",
     "start_time": "2025-07-15T12:37:09.368157Z"
    }
   },
   "cell_type": "code",
   "outputs": [
    {
     "name": "stderr",
     "output_type": "stream",
     "text": [
      "/home/dev/anaconda3/envs/genai/lib/python3.10/site-packages/langsmith/client.py:272: LangSmithMissingAPIKeyWarning: API key must be provided when using hosted LangSmith API\n",
      "  warnings.warn(\n"
     ]
    },
    {
     "name": "stdout",
     "output_type": "stream",
     "text": [
      "According to the provided context, Napoleon died of stomach\n",
      "cancer on the remote island of Saint Helena in the South\n",
      "Atlantic at the age of 51.\n"
     ]
    }
   ],
   "execution_count": 3,
   "source": [
    "Vector_RAG = query_vector_rag(\n",
    "    question=question,\n",
    "    vector_index_name=vector_index_name,\n",
    "    vector_node_label=vector_node_label,\n",
    "    vector_source_property=vector_source_property,\n",
    "    vector_embedding_property=vector_embedding_property\n",
    "    )\n",
    "print(Vector_RAG)"
   ]
  },
  {
   "cell_type": "code",
   "execution_count": null,
   "metadata": {},
   "outputs": [],
   "source": []
  },
  {
   "metadata": {},
   "cell_type": "code",
   "outputs": [],
   "execution_count": null,
   "source": ""
  }
 ],
 "metadata": {
  "language_info": {
   "name": "python"
  },
  "kernelspec": {
   "name": "genai",
   "language": "python",
   "display_name": "genai"
  }
 },
 "nbformat": 4,
 "nbformat_minor": 2
}
