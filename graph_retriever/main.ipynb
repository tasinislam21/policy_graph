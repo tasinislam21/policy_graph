{
 "cells": [
  {
   "cell_type": "code",
   "metadata": {
    "ExecuteTime": {
     "end_time": "2025-07-11T17:11:11.272880Z",
     "start_time": "2025-07-11T17:11:10.124400Z"
    }
   },
   "source": [
    "from KG.config import load_neo4j_graph\n",
    "from VectorRAG import query_vector_rag\n",
    "from GraphRAG import generate_cypher_query\n",
    "\n",
    "graph = load_neo4j_graph()"
   ],
   "outputs": [],
   "execution_count": 1
  },
  {
   "cell_type": "code",
   "metadata": {
    "ExecuteTime": {
     "end_time": "2025-07-11T17:12:52.134832Z",
     "start_time": "2025-07-11T17:12:50.400880Z"
    }
   },
   "source": [
    "question = \"How did Napoleon die?\"\n",
    "vector_index_name = 'Chunk'\n",
    "vector_node_label = 'Chunk'\n",
    "vector_source_property= 'text'\n",
    "vector_embedding_property = 'textEmbedding'\n",
    "\n",
    "Vector_RAG = query_vector_rag(\n",
    "    question=question, \n",
    "    vector_index_name=vector_index_name, \n",
    "    vector_node_label=vector_node_label, \n",
    "    vector_source_property=vector_source_property, \n",
    "    vector_embedding_property=vector_embedding_property\n",
    "    )\n",
    "print(Vector_RAG)"
   ],
   "outputs": [
    {
     "name": "stderr",
     "output_type": "stream",
     "text": [
      "/home/tasin/anaconda3/envs/DiT/lib/python3.12/site-packages/langsmith/client.py:272: LangSmithMissingAPIKeyWarning: API key must be provided when using hosted LangSmith API\n",
      "  warnings.warn(\n"
     ]
    },
    {
     "name": "stdout",
     "output_type": "stream",
     "text": [
      "According to the provided context, Napoleon died of stomach\n",
      "cancer on the remote island of Saint Helena in the South\n",
      "Atlantic at the age of 51.\n"
     ]
    }
   ],
   "execution_count": 6
  },
  {
   "cell_type": "code",
   "metadata": {
    "ExecuteTime": {
     "end_time": "2025-07-11T17:12:53.659551Z",
     "start_time": "2025-07-11T17:12:52.211539Z"
    }
   },
   "source": "generate_cypher_query(graph=graph, question=question)",
   "outputs": [
    {
     "name": "stdout",
     "output_type": "stream",
     "text": [
      "\n",
      "\n",
      "\u001B[1m> Entering new GraphCypherQAChain chain...\u001B[0m\n"
     ]
    },
    {
     "name": "stderr",
     "output_type": "stream",
     "text": [
      "Received notification from DBMS server: {severity: WARNING} {code: Neo.ClientNotification.Statement.UnknownRelationshipTypeWarning} {category: UNRECOGNIZED} {title: The provided relationship type is not in the database.} {description: One of the relationship types in your query is not available in the database, make sure you didn't misspell it or that the label is available when you run this statement in your application (the missing relationship type is: HAS_Chunk)} {position: line: 1, column: 103, offset: 102} for query: 'MATCH (Napoleon:Person)-[:RELATED_TO]->(Event:Event {name: \"Death\"})-[:HAS_SECTION]->(info:Section)-[:HAS_Chunk]->(ChunkInfo:Chunk)\\nRETURN info, ChunkInfo.text'\n"
     ]
    },
    {
     "name": "stdout",
     "output_type": "stream",
     "text": [
      "Generated Cypher:\n",
      "\u001B[32;1m\u001B[1;3mMATCH (Napoleon:Person)-[:RELATED_TO]->(Event:Event {name: \"Death\"})-[:HAS_SECTION]->(info:Section)-[:HAS_Chunk]->(ChunkInfo:Chunk)\n",
      "RETURN info, ChunkInfo.text\u001B[0m\n",
      "Full Context:\n",
      "\u001B[32;1m\u001B[1;3m[]\u001B[0m\n",
      "\n",
      "\u001B[1m> Finished chain.\u001B[0m\n"
     ]
    },
    {
     "data": {
      "text/plain": [
       "\"I don't know the answer.\""
      ]
     },
     "execution_count": 7,
     "metadata": {},
     "output_type": "execute_result"
    }
   ],
   "execution_count": 7
  },
  {
   "cell_type": "code",
   "execution_count": null,
   "metadata": {},
   "outputs": [],
   "source": []
  },
  {
   "metadata": {},
   "cell_type": "code",
   "outputs": [],
   "execution_count": null,
   "source": ""
  }
 ],
 "metadata": {
  "language_info": {
   "name": "python"
  },
  "kernelspec": {
   "name": "dit",
   "language": "python",
   "display_name": "DiT"
  }
 },
 "nbformat": 4,
 "nbformat_minor": 2
}
