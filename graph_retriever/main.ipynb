{
 "cells": [
  {
   "cell_type": "code",
   "metadata": {
    "ExecuteTime": {
     "end_time": "2025-07-15T14:32:06.958011Z",
     "start_time": "2025-07-15T14:32:06.022300Z"
    }
   },
   "source": [
    "from KG.config import load_neo4j_graph\n",
    "from VectorRAG import query_vector_rag\n",
    "from GraphRAG import generate_cypher_query\n",
    "\n",
    "graph = load_neo4j_graph()"
   ],
   "outputs": [],
   "execution_count": 1
  },
  {
   "metadata": {
    "ExecuteTime": {
     "end_time": "2025-07-15T14:32:06.963480Z",
     "start_time": "2025-07-15T14:32:06.961348Z"
    }
   },
   "cell_type": "code",
   "source": [
    "question = \"Where did the battle of waterloo take place?\"\n",
    "vector_index_name = 'Chunk'\n",
    "vector_node_label = 'Chunk'\n",
    "vector_source_property= 'text'\n",
    "vector_embedding_property = 'textEmbedding'"
   ],
   "outputs": [],
   "execution_count": 2
  },
  {
   "cell_type": "code",
   "metadata": {
    "ExecuteTime": {
     "end_time": "2025-07-15T14:32:21.586815Z",
     "start_time": "2025-07-15T14:32:07.021820Z"
    }
   },
   "source": "generate_cypher_query(graph=graph, question=question)",
   "outputs": [
    {
     "name": "stdout",
     "output_type": "stream",
     "text": [
      "\n",
      "\n",
      "\u001B[1m> Entering new GraphCypherQAChain chain...\u001B[0m\n"
     ]
    },
    {
     "name": "stderr",
     "output_type": "stream",
     "text": [
      "/home/dev/Downloads/policy_graph/graph_retriever/GraphRAG.py:46: LangChainDeprecationWarning: The method `Chain.run` was deprecated in langchain 0.1.0 and will be removed in 1.0. Use :meth:`~invoke` instead.\n",
      "  response = cypher_chain.run(question)\n"
     ]
    },
    {
     "name": "stdout",
     "output_type": "stream",
     "text": [
      "Generated Cypher:\n",
      "\u001B[32;1m\u001B[1;3mMATCH (waterloo:Event {name: \"Battle_of_Waterloo\"})-[:HAS_SECTION]->(info:Section)-[:HAS_CHUNK]->(ChunkInfo:Chunk)\n",
      "RETURN ChunkInfo.text\u001B[0m\n",
      "Full Context:\n",
      "\u001B[32;1m\u001B[1;3m[{'ChunkInfo.text': 'The Battle of Waterloo  was fought on Sunday 18 June 1815, near Waterloo (at that time in the United Kingdom of the Netherlands, now in Belgium), marking  the end of the Napoleonic Wars. A French army under the command of Napoleon was defeated by two armies of the Seventh Coalition. One of these was a British-led force with units from the United Kingdom, the Netherlands, Hanover, Brunswick, and Nassau, under the command of the Duke of Wellington (often referred to as the Anglo-allied army or Wellington\\'s army). The other comprised three corps (the 1st, 2nd and 4th corps) of the Prussian army under Field Marshal Blücher; a fourth corps (the 3rd) of this army fought at the Battle of Wavre on the same day. The battle was known contemporarily as the Battle of Mont Saint-Jean in France (after the hamlet of Mont-Saint-Jean) and La Belle Alliance in Prussia (\"the Beautiful Alliance\"; after the inn of La Belle Alliance).\\nUpon Napoleon\\'s return to power in March 1815 (beginning the Hundred Days), many states that had previously opposed him formed the Seventh Coalition and hurriedly mobilised their armies. Wellington\\'s and Blücher\\'s armies were cantoned close to the northeastern border of France. Napoleon planned to attack them separately, before they could link up and invade France with other members of the coalition.'}, {'ChunkInfo.text': 'On 16 June, Napoleon successfully attacked the bulk of the Prussian army at the Battle of Ligny with his main force, while a small portion of the French army contested the Battle of Quatre Bras to prevent the Anglo-allied army from reinforcing the Prussians. The Anglo-allied army held their ground at Quatre Bras, and on the 17th, the Prussians withdrew from Ligny in good order, while Wellington then withdrew in parallel with the Prussians northward to Waterloo on 17 June. Napoleon sent a third of his forces to pursue the Prussians, which resulted in the separate Battle of Wavre with the Prussian rear-guard on 18–19 June, and prevented that French force from participating at Waterloo.\\nUpon learning that the Prussian Army was able to support him, Wellington decided to offer battle on the Mont-Saint-Jean escarpment across the Brussels road, near the village of Waterloo. Here he withstood repeated attacks by the French throughout the afternoon of 18 June and almost lost the battle, but was eventually aided by the progressively arriving 50,000 Prussians who attacked the French flank and inflicted heavy casualties. In the evening, Napoleon assaulted the Anglo-allied line with his last reserves, the senior infantry battalions of the Imperial Guard. With the Prussians breaking through on the French right flank, the Anglo-allied army repulsed the Imperial Guard, and the French army was routed.'}, {'ChunkInfo.text': 'Waterloo was the decisive engagement of the Waterloo campaign and Napoleon\\'s last. It was also the second bloodiest single day battle of the Napoleonic Wars, after Borodino. According to Wellington, the battle was \"the nearest-run thing you ever saw in your life\". Napoleon abdicated four days later, and coalition forces entered Paris on 7 July. The defeat at Waterloo marked the end of Napoleon\\'s Hundred Days return from exile. It precipitated Napoleon\\'s second and definitive abdication as Emperor of the French, and ended the First French Empire. It set a historical  milestone between serial European wars and decades of relative peace, often referred to as the Pax Britannica.  In popular culture, the phrase \"meeting one\\'s Waterloo\" has become an expression for someone suffering a final defeat.\\nThe battlefield is located in the Belgian municipalities of Braine-l\\'Alleud and Lasne, about 15 kilometres (9.3\\xa0mi) south of Brussels, and about 2 kilometres (1.2\\xa0mi) from the town of Waterloo. The site of the battlefield today is dominated by the monument of the Lion\\'s Mound, a large artificial hill constructed from earth taken from the battlefield itself, but the topography of the battlefield near the mound has not been preserved.'}, {'ChunkInfo.text': 'The Waterloo position chosen by Wellington was a strong one. It consisted of a long ridge running east–west, perpendicular to, and bisected by, the main road to Brussels. Along the crest of the ridge ran the Ohain road, a deep sunken lane. Near the crossroads with the Brussels road was a large elm tree that was roughly in the centre of Wellington\\'s position and served as his command post for much of the day. Wellington deployed his infantry in a line just behind the crest of the ridge following the Ohain road.\\nUsing the reverse slope, as he had many times previously, Wellington concealed his strength from the French, with the exception of his skirmishers and artillery. The length of front of the battlefield was also relatively short at 2.5 miles (4\\xa0km). This allowed Wellington to draw up his forces in depth, which he did in the centre and on the right, all the way towards the village of Braine-l\\'Alleud, in the expectation that the Prussians would reinforce his left during the day.\\nIn front of the ridge, there were three positions that could be fortified. On the extreme right were the château, garden, and orchard of Hougoumont. This was a large and well-built country house, initially hidden in trees. The house faced north along a sunken, covered lane (usually described by the British as \"the hollow-way\") along which it could be supplied. On the extreme left was the hamlet of Papelotte.\\nBoth Hougoumont and Papelotte were fortified and garrisoned, and thus anchored Wellington\\'s flanks securely. Papelotte also commanded the road to Wavre that the Prussians would use to send reinforcements to Wellington\\'s position. On the western side of the main road, and in front of the rest of Wellington\\'s line, was the farmhouse and orchard of La Haye Sainte, which was garrisoned with 400 light infantry of the King\\'s German Legion. On the opposite side of the road was a disused sand quarry, where the 95th Rifles were posted as sharpshooters.'}, {'ChunkInfo.text': \"Wellington's forces positioning presented a formidable challenge to any attacking force. Any attempt to turn Wellington's right would entail taking the entrenched Hougoumont position. Any attack on his right centre would mean the attackers would have to march between enfilading fire from Hougoumont and La Haye Sainte. On the left, any attack would also be enfiladed by fire from La Haye Sainte and its adjoining sandpit, and any attempt at turning the left flank would entail fighting through the lanes and hedgerows surrounding Papelotte and the other garrisoned buildings on that flank, and some very wet ground in the Smohain defile.\\nThe French army formed on the slopes of another ridge to the south. Napoleon could not see Wellington's positions, so he drew his forces up symmetrically about the Brussels road. On the right was I Corps under d'Erlon with 16,000 infantry and 1,500 cavalry, plus a cavalry reserve of 4,700. On the left was II Corps under Reille with 13,000 infantry, and 1,300 cavalry, and a cavalry reserve of 4,600. In the centre about the road south of the inn La Belle Alliance were a reserve including Lobau's VI Corps with 6,000 men, the 13,000 infantry of the Imperial Guard, and a cavalry reserve of 2,000.\\nIn the right rear of the French position was the substantial village of Plancenoit, and at the extreme right, the Bois de Paris wood. Napoleon initially commanded the battle from Rossomme farm, where he could see the entire battlefield, but moved to a position near La Belle Alliance early in the afternoon. Command on the battlefield (which was largely hidden from his view) was delegated to Ney.\"}, {'ChunkInfo.text': \"On 13 March 1815, six days before Napoleon reached Paris, the powers at the Congress of Vienna declared him an outlaw. Four days later, the United Kingdom, Russia, Austria, and Prussia mobilised armies to defeat Napoleon. Critically outnumbered, Napoleon knew that once his attempts at dissuading one or more members of the Seventh Coalition from invading France had failed, his only chance of remaining in power was to attack before the coalition mobilised.\\nHad Napoleon succeeded in destroying the existing coalition forces south of Brussels before they were reinforced, he might have been able to drive the British back to the sea and knock the Prussians out of the war. Crucially, this would have bought him time to recruit and train more men before turning his armies against the Austrians and Russians.\\nAn additional consideration for Napoleon was that a French victory might cause French-speaking sympathisers in Belgium to launch a friendly revolution. Also, coalition troops in Belgium were largely second-line, as many units were of dubious quality and loyalty.\\nThe initial dispositions of Wellington, the British commander, were intended to counter the threat of Napoleon enveloping the Coalition armies by moving through Mons to the south-west of Brussels. This would have pushed Wellington closer to the Prussian forces, led by Gebhard Leberecht von Blücher, but might have cut Wellington's communications with his base at Ostend. In order to delay Wellington's deployment, Napoleon spread false intelligence which suggested that Wellington's supply chain from the channel ports would be cut.\"}, {'ChunkInfo.text': 'By June, Napoleon had raised a total army strength of about 300,000 men. The force at his disposal at Waterloo was less than one third that size, but the rank and file were mostly loyal and experienced soldiers. Napoleon divided his army into a left wing commanded by Marshal Ney, a right wing commanded by Marshal Grouchy and a reserve under his command (although all three elements remained close enough to support one another). Crossing the frontier near Charleroi before dawn on 15 June, the French rapidly overran Coalition outposts, securing Napoleon\\'s \"central position\" between Wellington\\'s and Blücher\\'s armies. He hoped this would prevent them from combining, and he would be able to destroy first the Prussian army, then Wellington\\'s.'}, {'ChunkInfo.text': \"Only very late on the night of 15 June was Wellington certain that the Charleroi attack was the main French thrust. In the early hours of 16 June, at the Duchess of Richmond's ball in Brussels, he received a dispatch from the Prince of Orange and was shocked by the speed of Napoleon's advance. He hastily ordered his army to concentrate on Quatre Bras, where the Prince of Orange, with the brigade of Prince Bernhard of Saxe-Weimar, was holding a tenuous position against the soldiers of Ney's left wing. Prince Bernhard and General Perponcher were by all accounts better informed of the French advance than other allied officials and their later initiatives to hold the cross roads proved vital for the outcome. General Constant de Rebeque, commander of one of the Dutch divisions, disobeyed Wellington’s orders to march to his previous chosen concentration area around Nivelles, and decided to hold the crossroads and send urgent messages to the prince and Perponcher. This fact shows how little Wellington believed in a fast French advance towards Brussels. He did not believe in recent intelligence given to him by General Dörnberg, one of his intelligence officials warning him of numerous French outposts south of Charleroi as well as some reports sent by the intelligence of the Prussian 1st corps. Had these two generals obeyed his orders, Quatre-Bras in all probablity would have fallen to the French giving them time to support Napoleons attack on the Prussians in the Sombreffe area via the fast, cobbled road, and the history of the campaign would have been significantly different.\"}, {'ChunkInfo.text': \"Ney's orders were to secure the crossroads of Quatre Bras so that he could later swing east and reinforce Napoleon if necessary. Ney found the crossroads lightly held by the Prince of Orange, who repelled Ney's initial attacks but was gradually driven back by overwhelming numbers of French troops in the Battle of Quatre Bras. First reinforcements, and then Wellington arrived. He took command and drove Ney back, securing the crossroads by early evening, too late to send help to the Prussians, who had already been defeated.\\nMeanwhile, on 16 June, Napoleon attacked and defeated Blücher at the Battle of Ligny, using part of the reserve and the right wing of his army. The Prussian centre gave way under heavy French assaults, but the flanks held their ground. The Prussian retreat from Ligny went uninterrupted and seemingly unnoticed by the French. The bulk of their rearguard units held their positions until about midnight, and some elements did not move out until the following morning, ignored by the French.\\nCrucially, the Prussians did not retreat to the east, along their own lines of communication. Instead, they, too, fell back northwards—parallel to Wellington's line of march, still within supporting distance and in communication with him throughout. The Prussians rallied on Bülow's IV Corps, which had not been engaged at Ligny and was in a strong position south of Wavre.\\nWith the Prussian retreat from Ligny, Wellington's position at Quatre Bras was untenable. The next day he withdrew northwards, to a defensive position that he had reconnoitred the previous year—the low ridge of Mont-Saint-Jean, south of the village of Waterloo and the Sonian Forest.\"}, {'ChunkInfo.text': \"Napoleon, with the reserves, made a late start on 17 June and joined Ney at Quatre Bras at 13:00 to attack Wellington's army but found the position empty. The French pursued Wellington's retreating army to Waterloo; however, due to bad weather, mud and the head start that Napoleon's tardy advance had allowed Wellington, there was no substantial engagement, apart from a cavalry action at Genappe.\\nBefore leaving Ligny, Napoleon had ordered Grouchy, who commanded the right wing, to follow the retreating Prussians with 33,000 men. A late start, uncertainty about the direction the Prussians had taken, and the vagueness of the orders given to him meant that Grouchy was too late to prevent the Prussian army reaching Wavre, from where it could march to support Wellington. More importantly, the heavily outnumbered Prussian rearguard was able to use the River Dyle to fight a savage and prolonged action to delay Grouchy.\\nAs 17 June drew to a close, Wellington's army had arrived at its position at Waterloo, with the main body of Napoleon's army in pursuit. Blücher's army was gathering in and around Wavre, around 8 miles (13\\xa0km) to the east of the town. Early the next morning, Wellington received an assurance from Blücher that the Prussian army would support him. He decided to hold his ground and give battle.\"}]\u001B[0m\n",
      "\n",
      "\u001B[1m> Finished chain.\u001B[0m\n"
     ]
    },
    {
     "data": {
      "text/plain": [
       "\"The Battle of Waterloo took place near the village of\\nWaterloo in what is now Belgium, about 15 kilometres (9.3\\nmiles) south of Brussels. The battlefield is located in the\\nBelgian municipalities of Braine-l'Alleud and Lasne.\""
      ]
     },
     "execution_count": 3,
     "metadata": {},
     "output_type": "execute_result"
    }
   ],
   "execution_count": 3
  },
  {
   "metadata": {
    "ExecuteTime": {
     "end_time": "2025-07-15T14:28:34.210410Z",
     "start_time": "2025-07-15T14:28:29.001692Z"
    }
   },
   "cell_type": "code",
   "source": [
    "Vector_RAG = query_vector_rag(\n",
    "    question=question,\n",
    "    vector_index_name=vector_index_name,\n",
    "    vector_node_label=vector_node_label,\n",
    "    vector_source_property=vector_source_property,\n",
    "    vector_embedding_property=vector_embedding_property\n",
    "    )\n",
    "print(Vector_RAG)"
   ],
   "outputs": [
    {
     "name": "stderr",
     "output_type": "stream",
     "text": [
      "/home/dev/anaconda3/envs/genai/lib/python3.10/site-packages/langsmith/client.py:272: LangSmithMissingAPIKeyWarning: API key must be provided when using hosted LangSmith API\n",
      "  warnings.warn(\n"
     ]
    },
    {
     "name": "stdout",
     "output_type": "stream",
     "text": [
      "According to the provided context, the Battle of Waterloo\n",
      "took place on June 18, 1815. However, it does not specify\n",
      "the exact location where the battle occurred.\n"
     ]
    }
   ],
   "execution_count": 6
  },
  {
   "metadata": {},
   "cell_type": "code",
   "outputs": [],
   "execution_count": null,
   "source": ""
  }
 ],
 "metadata": {
  "language_info": {
   "name": "python"
  },
  "kernelspec": {
   "name": "genai",
   "language": "python",
   "display_name": "genai"
  }
 },
 "nbformat": 4,
 "nbformat_minor": 2
}
