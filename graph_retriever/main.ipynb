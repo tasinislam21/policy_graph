{
 "cells": [
  {
   "cell_type": "code",
   "metadata": {
    "ExecuteTime": {
     "end_time": "2025-07-21T13:42:59.227120Z",
     "start_time": "2025-07-21T13:42:58.173872Z"
    }
   },
   "source": [
    "from KG.config import load_neo4j_graph\n",
    "from VectorRAG import query_vector_rag\n",
    "from GraphRAG import generate_cypher_query\n",
    "\n",
    "graph = load_neo4j_graph()"
   ],
   "outputs": [],
   "execution_count": 1
  },
  {
   "metadata": {
    "ExecuteTime": {
     "end_time": "2025-07-21T13:42:59.241783Z",
     "start_time": "2025-07-21T13:42:59.238439Z"
    }
   },
   "cell_type": "code",
   "source": [
    "question = \"I am at a burglary scene, what evidence should I collect?\"\n",
    "vector_index_name = 'Chunk'\n",
    "vector_node_label = 'Chunk'\n",
    "vector_source_property= 'text'\n",
    "vector_embedding_property = 'textEmbedding'"
   ],
   "outputs": [],
   "execution_count": 2
  },
  {
   "cell_type": "code",
   "metadata": {
    "ExecuteTime": {
     "end_time": "2025-07-21T13:43:10.733857Z",
     "start_time": "2025-07-21T13:42:59.308198Z"
    }
   },
   "source": "generate_cypher_query(graph=graph, question=question)",
   "outputs": [
    {
     "name": "stdout",
     "output_type": "stream",
     "text": [
      "\n",
      "\n",
      "\u001B[1m> Entering new GraphCypherQAChain chain...\u001B[0m\n",
      "Generated Cypher:\n",
      "\u001B[32;1m\u001B[1;3mMATCH (:Crime {type: \"burglary\"})-[:HAS_CHECKLIST]->(:Checklist {type: \"Scene\"})-[:HAS_CHUNK]->(ChunkInfo:Chunk)\n",
      "RETURN ChunkInfo.StepID, ChunkInfo.text\u001B[0m\n",
      "Full Context:\n",
      "\u001B[32;1m\u001B[1;3m[{'ChunkInfo.StepID': 1, 'ChunkInfo.text': 'Follow Forensic Checklist to identify, secure and preserve any evidence.'}, {'ChunkInfo.StepID': 2, 'ChunkInfo.text': 'Search vicinity of scene for property with occupier. Any items found must be preserved.'}, {'ChunkInfo.StepID': 3, 'ChunkInfo.text': 'Identify the point of entry/exit and approach/escape routes and avoid touching internal or external doors or windows. Look for blood, obvious tool mark damage or other disturbance.'}, {'ChunkInfo.StepID': 4, 'ChunkInfo.text': 'Search scene with occupier to identify anything that a suspect may have touched, including cigarette butts, glasses, drinks containers, for DNA/fingerprint/fibre opportunities.'}, {'ChunkInfo.StepID': 5, 'ChunkInfo.text': 'Record details of any glass smashed at the scene. If a suspect is identified there may be backward fragmentation on the suspect’s clothing'}, {'ChunkInfo.StepID': 6, 'ChunkInfo.text': 'Consult with Crime Scene Examiner whilst at scene.'}, {'ChunkInfo.StepID': 7, 'ChunkInfo.text': 'If occupants are not present, arrange to secure the premises, do not leave the property vulnerable for a repeat burglary and leave details for victim to contact police.'}, {'ChunkInfo.StepID': 8, 'ChunkInfo.text': 'For all commercial burglary offences, call SCTaC on\\xa00207 230 8570 (768570) where specialist advice can be obtained & Flying Squad Bank Car can attend if criteria is met'}, {'ChunkInfo.StepID': 9, 'ChunkInfo.text': 'Know your local handling locations (utilise MetInsights) - search the areas for suspects and property stolen.'}, {'ChunkInfo.StepID': 11, 'ChunkInfo.text': 'Where possible, view CCTV immediately to aid early identification of suspect(s). Seize CCTV and obtain continuity statement, include details of format and timings for secondary investigator benefit.'}]\u001B[0m\n",
      "\n",
      "\u001B[1m> Finished chain.\u001B[0m\n"
     ]
    },
    {
     "data": {
      "text/plain": [
       "{'query': 'I am at a burglary scene, what evidence should I collect?',\n",
       " 'result': 'Follow Forensic Checklist to identify, secure and preserve any evidence. Search vicinity of scene for property with occupier. Any items found must be preserved. Identify the point of entry/exit and approach/escape routes and avoid touching internal or external doors or windows. Look for blood, obvious tool mark damage or other disturbance.'}"
      ]
     },
     "execution_count": 3,
     "metadata": {},
     "output_type": "execute_result"
    }
   ],
   "execution_count": 3
  },
  {
   "metadata": {
    "ExecuteTime": {
     "end_time": "2025-07-21T12:47:13.374724Z",
     "start_time": "2025-07-21T12:46:42.227679Z"
    }
   },
   "cell_type": "code",
   "source": [
    "Vector_RAG = query_vector_rag(\n",
    "    question=question,\n",
    "    vector_index_name=vector_index_name,\n",
    "    vector_node_label=vector_node_label,\n",
    "    vector_source_property=vector_source_property,\n",
    "    vector_embedding_property=vector_embedding_property\n",
    "    )\n",
    "print(Vector_RAG)"
   ],
   "outputs": [
    {
     "name": "stderr",
     "output_type": "stream",
     "text": [
      "/home/dev/anaconda3/envs/genai/lib/python3.10/site-packages/langsmith/client.py:272: LangSmithMissingAPIKeyWarning: API key must be provided when using hosted LangSmith API\n",
      "  warnings.warn(\n"
     ]
    },
    {
     "name": "stdout",
     "output_type": "stream",
     "text": [
      "Based on the context provided, here's what you can do:  1.\n",
      "Take the victim/witnesses on a drive around to identify\n",
      "suspect(s). This might help you get a description of the\n",
      "suspect and their vehicle. 2. Know your local handling\n",
      "locations (utilise MetInsights) - search the areas for\n",
      "suspects and property stolen. This could lead you to\n",
      "potential hiding spots or places where the suspect may have\n",
      "left evidence behind. 3. Research and record any relevant\n",
      "intelligence, use CONNECT Intelligence e.g. MO. Tool marks\n",
      "found at scene may assist with linked series offending. This\n",
      "might help you identify any distinctive features of the\n",
      "suspect's tools or vehicle that can be used to track them\n",
      "down.  Additionally, if you know the route taken by the\n",
      "suspect, you could concentrate on that area and search for\n",
      "any clues or evidence that might have been left behind.\n"
     ]
    }
   ],
   "execution_count": 4
  },
  {
   "metadata": {},
   "cell_type": "code",
   "outputs": [],
   "execution_count": null,
   "source": ""
  }
 ],
 "metadata": {
  "language_info": {
   "name": "python"
  },
  "kernelspec": {
   "name": "genai",
   "language": "python",
   "display_name": "genai"
  }
 },
 "nbformat": 4,
 "nbformat_minor": 2
}
