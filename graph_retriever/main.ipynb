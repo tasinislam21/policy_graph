{
 "cells": [
  {
   "cell_type": "code",
   "metadata": {
    "ExecuteTime": {
     "end_time": "2025-07-30T14:29:24.817548Z",
     "start_time": "2025-07-30T14:29:23.909208Z"
    }
   },
   "source": [
    "from KG.config import load_neo4j_graph\n",
    "from VectorRAG import query_vector_rag\n",
    "from GraphRAG import generate_cypher_query\n",
    "\n",
    "graph = load_neo4j_graph()"
   ],
   "outputs": [],
   "execution_count": 1
  },
  {
   "metadata": {
    "ExecuteTime": {
     "end_time": "2025-07-30T14:31:10.464579Z",
     "start_time": "2025-07-30T14:31:10.462327Z"
    }
   },
   "cell_type": "code",
   "source": [
    "question = \"I am at a burglary scene, how can I find the suspect?\"\n",
    "vector_index_name = 'Chunk'\n",
    "vector_node_label = 'Chunk'\n",
    "vector_source_property= 'text'\n",
    "vector_embedding_property = 'textEmbedding'"
   ],
   "outputs": [],
   "execution_count": 5
  },
  {
   "cell_type": "code",
   "metadata": {
    "ExecuteTime": {
     "end_time": "2025-07-30T14:31:14.445104Z",
     "start_time": "2025-07-30T14:31:10.941047Z"
    }
   },
   "source": "generate_cypher_query(graph=graph, question=question)",
   "outputs": [
    {
     "name": "stdout",
     "output_type": "stream",
     "text": [
      "\n",
      "\n",
      "\u001B[1m> Entering new GraphCypherQAChain chain...\u001B[0m\n",
      "Generated Cypher:\n",
      "\u001B[32;1m\u001B[1;3mMATCH (:Crime {type: \"burglary\"})-[:HAS_CHECKLIST]->(:Checklist {type: \"Suspects\"} |-[:HAS_CHUNK]->(ChunkInfo:Chunk)\n",
      "RETURN ChunkInfo.StepID, ChunkInfo.text\u001B[0m\n"
     ]
    },
    {
     "ename": "CypherSyntaxError",
     "evalue": "{code: Neo.ClientError.Statement.SyntaxError} {message: Invalid input '|': expected ')' or 'WHERE' (line 1, column 84 (offset: 83))\n\"MATCH (:Crime {type: \"burglary\"})-[:HAS_CHECKLIST]->(:Checklist {type: \"Suspects\"} |-[:HAS_CHUNK]->(ChunkInfo:Chunk)\"\n                                                                                    ^}",
     "output_type": "error",
     "traceback": [
      "\u001B[0;31m---------------------------------------------------------------------------\u001B[0m",
      "\u001B[0;31mGqlError\u001B[0m                                  Traceback (most recent call last)",
      "\u001B[0;31mGqlError\u001B[0m: {gql_status: 42I06} {gql_status_description: error: syntax error or access rule violation - invalid input. Invalid input '|', expected: ')' or 'WHERE'.} {message: 42I06: Invalid input '|', expected: ')' or 'WHERE'.} {diagnostic_record: {'_classification': 'CLIENT_ERROR', '_position': {'line': 1, 'offset': 83, 'column': 84}, 'OPERATION': '', 'OPERATION_CODE': '0', 'CURRENT_SCHEMA': '/'}} {raw_classification: CLIENT_ERROR}",
      "\nThe above exception was the direct cause of the following exception:\n",
      "\u001B[0;31mCypherSyntaxError\u001B[0m                         Traceback (most recent call last)",
      "Cell \u001B[0;32mIn[6], line 1\u001B[0m\n\u001B[0;32m----> 1\u001B[0m \u001B[43mgenerate_cypher_query\u001B[49m\u001B[43m(\u001B[49m\u001B[43mgraph\u001B[49m\u001B[38;5;241;43m=\u001B[39;49m\u001B[43mgraph\u001B[49m\u001B[43m,\u001B[49m\u001B[43m \u001B[49m\u001B[43mquestion\u001B[49m\u001B[38;5;241;43m=\u001B[39;49m\u001B[43mquestion\u001B[49m\u001B[43m)\u001B[49m\n",
      "File \u001B[0;32m~/Downloads/policy_graph/graph_retriever/GraphRAG.py:46\u001B[0m, in \u001B[0;36mgenerate_cypher_query\u001B[0;34m(question, graph, temperature, verbose)\u001B[0m\n\u001B[1;32m     37\u001B[0m cypher_chain \u001B[38;5;241m=\u001B[39m GraphCypherQAChain\u001B[38;5;241m.\u001B[39mfrom_llm(\n\u001B[1;32m     38\u001B[0m     ChatOllama(model\u001B[38;5;241m=\u001B[39m\u001B[38;5;124m\"\u001B[39m\u001B[38;5;124mllama3:8b\u001B[39m\u001B[38;5;124m\"\u001B[39m, temperature\u001B[38;5;241m=\u001B[39m\u001B[38;5;241m0\u001B[39m),\n\u001B[1;32m     39\u001B[0m     graph\u001B[38;5;241m=\u001B[39mgraph,\n\u001B[0;32m   (...)\u001B[0m\n\u001B[1;32m     42\u001B[0m     allow_dangerous_requests\u001B[38;5;241m=\u001B[39m\u001B[38;5;28;01mTrue\u001B[39;00m  \u001B[38;5;66;03m# Acknowledge the risks here.\u001B[39;00m\n\u001B[1;32m     43\u001B[0m )\n\u001B[1;32m     45\u001B[0m \u001B[38;5;66;03m# Run the chain with the input question.\u001B[39;00m\n\u001B[0;32m---> 46\u001B[0m response \u001B[38;5;241m=\u001B[39m \u001B[43mcypher_chain\u001B[49m\u001B[38;5;241;43m.\u001B[39;49m\u001B[43minvoke\u001B[49m\u001B[43m(\u001B[49m\u001B[43mquestion\u001B[49m\u001B[43m)\u001B[49m\n\u001B[1;32m     48\u001B[0m \u001B[38;5;66;03m# Format and return the Cypher query.\u001B[39;00m\n\u001B[1;32m     49\u001B[0m \u001B[38;5;28;01mreturn\u001B[39;00m response\n",
      "File \u001B[0;32m~/anaconda3/envs/genai/lib/python3.10/site-packages/langchain/chains/base.py:167\u001B[0m, in \u001B[0;36mChain.invoke\u001B[0;34m(self, input, config, **kwargs)\u001B[0m\n\u001B[1;32m    165\u001B[0m \u001B[38;5;28;01mexcept\u001B[39;00m \u001B[38;5;167;01mBaseException\u001B[39;00m \u001B[38;5;28;01mas\u001B[39;00m e:\n\u001B[1;32m    166\u001B[0m     run_manager\u001B[38;5;241m.\u001B[39mon_chain_error(e)\n\u001B[0;32m--> 167\u001B[0m     \u001B[38;5;28;01mraise\u001B[39;00m e\n\u001B[1;32m    168\u001B[0m run_manager\u001B[38;5;241m.\u001B[39mon_chain_end(outputs)\n\u001B[1;32m    170\u001B[0m \u001B[38;5;28;01mif\u001B[39;00m include_run_info:\n",
      "File \u001B[0;32m~/anaconda3/envs/genai/lib/python3.10/site-packages/langchain/chains/base.py:157\u001B[0m, in \u001B[0;36mChain.invoke\u001B[0;34m(self, input, config, **kwargs)\u001B[0m\n\u001B[1;32m    154\u001B[0m \u001B[38;5;28;01mtry\u001B[39;00m:\n\u001B[1;32m    155\u001B[0m     \u001B[38;5;28mself\u001B[39m\u001B[38;5;241m.\u001B[39m_validate_inputs(inputs)\n\u001B[1;32m    156\u001B[0m     outputs \u001B[38;5;241m=\u001B[39m (\n\u001B[0;32m--> 157\u001B[0m         \u001B[38;5;28;43mself\u001B[39;49m\u001B[38;5;241;43m.\u001B[39;49m\u001B[43m_call\u001B[49m\u001B[43m(\u001B[49m\u001B[43minputs\u001B[49m\u001B[43m,\u001B[49m\u001B[43m \u001B[49m\u001B[43mrun_manager\u001B[49m\u001B[38;5;241;43m=\u001B[39;49m\u001B[43mrun_manager\u001B[49m\u001B[43m)\u001B[49m\n\u001B[1;32m    158\u001B[0m         \u001B[38;5;28;01mif\u001B[39;00m new_arg_supported\n\u001B[1;32m    159\u001B[0m         \u001B[38;5;28;01melse\u001B[39;00m \u001B[38;5;28mself\u001B[39m\u001B[38;5;241m.\u001B[39m_call(inputs)\n\u001B[1;32m    160\u001B[0m     )\n\u001B[1;32m    162\u001B[0m     final_outputs: \u001B[38;5;28mdict\u001B[39m[\u001B[38;5;28mstr\u001B[39m, Any] \u001B[38;5;241m=\u001B[39m \u001B[38;5;28mself\u001B[39m\u001B[38;5;241m.\u001B[39mprep_outputs(\n\u001B[1;32m    163\u001B[0m         inputs, outputs, return_only_outputs\n\u001B[1;32m    164\u001B[0m     )\n\u001B[1;32m    165\u001B[0m \u001B[38;5;28;01mexcept\u001B[39;00m \u001B[38;5;167;01mBaseException\u001B[39;00m \u001B[38;5;28;01mas\u001B[39;00m e:\n",
      "File \u001B[0;32m~/anaconda3/envs/genai/lib/python3.10/site-packages/langchain_neo4j/chains/graph_qa/cypher.py:356\u001B[0m, in \u001B[0;36mGraphCypherQAChain._call\u001B[0;34m(self, inputs, run_manager)\u001B[0m\n\u001B[1;32m    353\u001B[0m \u001B[38;5;66;03m# Retrieve and limit the number of results\u001B[39;00m\n\u001B[1;32m    354\u001B[0m \u001B[38;5;66;03m# Generated Cypher be null if query corrector identifies invalid schema\u001B[39;00m\n\u001B[1;32m    355\u001B[0m \u001B[38;5;28;01mif\u001B[39;00m generated_cypher:\n\u001B[0;32m--> 356\u001B[0m     context \u001B[38;5;241m=\u001B[39m \u001B[38;5;28;43mself\u001B[39;49m\u001B[38;5;241;43m.\u001B[39;49m\u001B[43mgraph\u001B[49m\u001B[38;5;241;43m.\u001B[39;49m\u001B[43mquery\u001B[49m\u001B[43m(\u001B[49m\u001B[43mgenerated_cypher\u001B[49m\u001B[43m)\u001B[49m[: \u001B[38;5;28mself\u001B[39m\u001B[38;5;241m.\u001B[39mtop_k]\n\u001B[1;32m    357\u001B[0m \u001B[38;5;28;01melse\u001B[39;00m:\n\u001B[1;32m    358\u001B[0m     context \u001B[38;5;241m=\u001B[39m []\n",
      "File \u001B[0;32m~/anaconda3/envs/genai/lib/python3.10/site-packages/langchain_neo4j/graphs/neo4j_graph.py:230\u001B[0m, in \u001B[0;36mNeo4jGraph.query\u001B[0;34m(self, query, params, session_params)\u001B[0m\n\u001B[1;32m    228\u001B[0m \u001B[38;5;28;01mif\u001B[39;00m \u001B[38;5;129;01mnot\u001B[39;00m session_params:\n\u001B[1;32m    229\u001B[0m     \u001B[38;5;28;01mtry\u001B[39;00m:\n\u001B[0;32m--> 230\u001B[0m         data, _, _ \u001B[38;5;241m=\u001B[39m \u001B[38;5;28;43mself\u001B[39;49m\u001B[38;5;241;43m.\u001B[39;49m\u001B[43m_driver\u001B[49m\u001B[38;5;241;43m.\u001B[39;49m\u001B[43mexecute_query\u001B[49m\u001B[43m(\u001B[49m\n\u001B[1;32m    231\u001B[0m \u001B[43m            \u001B[49m\u001B[43mQuery\u001B[49m\u001B[43m(\u001B[49m\u001B[43mtext\u001B[49m\u001B[38;5;241;43m=\u001B[39;49m\u001B[43mquery\u001B[49m\u001B[43m,\u001B[49m\u001B[43m \u001B[49m\u001B[43mtimeout\u001B[49m\u001B[38;5;241;43m=\u001B[39;49m\u001B[38;5;28;43mself\u001B[39;49m\u001B[38;5;241;43m.\u001B[39;49m\u001B[43mtimeout\u001B[49m\u001B[43m)\u001B[49m\u001B[43m,\u001B[49m\n\u001B[1;32m    232\u001B[0m \u001B[43m            \u001B[49m\u001B[43mdatabase_\u001B[49m\u001B[38;5;241;43m=\u001B[39;49m\u001B[38;5;28;43mself\u001B[39;49m\u001B[38;5;241;43m.\u001B[39;49m\u001B[43m_database\u001B[49m\u001B[43m,\u001B[49m\n\u001B[1;32m    233\u001B[0m \u001B[43m            \u001B[49m\u001B[43mparameters_\u001B[49m\u001B[38;5;241;43m=\u001B[39;49m\u001B[43mparams\u001B[49m\u001B[43m,\u001B[49m\n\u001B[1;32m    234\u001B[0m \u001B[43m        \u001B[49m\u001B[43m)\u001B[49m\n\u001B[1;32m    235\u001B[0m         json_data \u001B[38;5;241m=\u001B[39m [r\u001B[38;5;241m.\u001B[39mdata() \u001B[38;5;28;01mfor\u001B[39;00m r \u001B[38;5;129;01min\u001B[39;00m data]\n\u001B[1;32m    236\u001B[0m         \u001B[38;5;28;01mif\u001B[39;00m \u001B[38;5;28mself\u001B[39m\u001B[38;5;241m.\u001B[39msanitize:\n",
      "File \u001B[0;32m~/anaconda3/envs/genai/lib/python3.10/site-packages/neo4j/_sync/driver.py:970\u001B[0m, in \u001B[0;36mDriver.execute_query\u001B[0;34m(self, query_, parameters_, routing_, database_, impersonated_user_, bookmark_manager_, auth_, result_transformer_, **kwargs)\u001B[0m\n\u001B[1;32m    966\u001B[0m     \u001B[38;5;28;01mraise\u001B[39;00m \u001B[38;5;167;01mValueError\u001B[39;00m(\n\u001B[1;32m    967\u001B[0m         \u001B[38;5;124mf\u001B[39m\u001B[38;5;124m\"\u001B[39m\u001B[38;5;124mInvalid routing control value: \u001B[39m\u001B[38;5;132;01m{\u001B[39;00mrouting_\u001B[38;5;132;01m!r}\u001B[39;00m\u001B[38;5;124m\"\u001B[39m\n\u001B[1;32m    968\u001B[0m     )\n\u001B[1;32m    969\u001B[0m \u001B[38;5;28;01mwith\u001B[39;00m session\u001B[38;5;241m.\u001B[39m_pipelined_begin:\n\u001B[0;32m--> 970\u001B[0m     \u001B[38;5;28;01mreturn\u001B[39;00m \u001B[43msession\u001B[49m\u001B[38;5;241;43m.\u001B[39;49m\u001B[43m_run_transaction\u001B[49m\u001B[43m(\u001B[49m\n\u001B[1;32m    971\u001B[0m \u001B[43m        \u001B[49m\u001B[43maccess_mode\u001B[49m\u001B[43m,\u001B[49m\n\u001B[1;32m    972\u001B[0m \u001B[43m        \u001B[49m\u001B[43mTelemetryAPI\u001B[49m\u001B[38;5;241;43m.\u001B[39;49m\u001B[43mDRIVER\u001B[49m\u001B[43m,\u001B[49m\n\u001B[1;32m    973\u001B[0m \u001B[43m        \u001B[49m\u001B[43mwork\u001B[49m\u001B[43m,\u001B[49m\n\u001B[1;32m    974\u001B[0m \u001B[43m        \u001B[49m\u001B[43m(\u001B[49m\u001B[43mquery_str\u001B[49m\u001B[43m,\u001B[49m\u001B[43m \u001B[49m\u001B[43mparameters\u001B[49m\u001B[43m,\u001B[49m\u001B[43m \u001B[49m\u001B[43mresult_transformer_\u001B[49m\u001B[43m)\u001B[49m\u001B[43m,\u001B[49m\n\u001B[1;32m    975\u001B[0m \u001B[43m        \u001B[49m\u001B[43m{\u001B[49m\u001B[43m}\u001B[49m\u001B[43m,\u001B[49m\n\u001B[1;32m    976\u001B[0m \u001B[43m    \u001B[49m\u001B[43m)\u001B[49m\n",
      "File \u001B[0;32m~/anaconda3/envs/genai/lib/python3.10/site-packages/neo4j/_sync/work/session.py:583\u001B[0m, in \u001B[0;36mSession._run_transaction\u001B[0;34m(self, access_mode, api, transaction_function, args, kwargs)\u001B[0m\n\u001B[1;32m    581\u001B[0m tx \u001B[38;5;241m=\u001B[39m \u001B[38;5;28mself\u001B[39m\u001B[38;5;241m.\u001B[39m_transaction\n\u001B[1;32m    582\u001B[0m \u001B[38;5;28;01mtry\u001B[39;00m:\n\u001B[0;32m--> 583\u001B[0m     result \u001B[38;5;241m=\u001B[39m \u001B[43mtransaction_function\u001B[49m\u001B[43m(\u001B[49m\u001B[43mtx\u001B[49m\u001B[43m,\u001B[49m\u001B[43m \u001B[49m\u001B[38;5;241;43m*\u001B[39;49m\u001B[43margs\u001B[49m\u001B[43m,\u001B[49m\u001B[43m \u001B[49m\u001B[38;5;241;43m*\u001B[39;49m\u001B[38;5;241;43m*\u001B[39;49m\u001B[43mkwargs\u001B[49m\u001B[43m)\u001B[49m\n\u001B[1;32m    584\u001B[0m \u001B[38;5;28;01mexcept\u001B[39;00m asyncio\u001B[38;5;241m.\u001B[39mCancelledError:\n\u001B[1;32m    585\u001B[0m     \u001B[38;5;66;03m# if cancellation callback has not been called yet:\u001B[39;00m\n\u001B[1;32m    586\u001B[0m     \u001B[38;5;28;01mif\u001B[39;00m \u001B[38;5;28mself\u001B[39m\u001B[38;5;241m.\u001B[39m_transaction \u001B[38;5;129;01mis\u001B[39;00m \u001B[38;5;129;01mnot\u001B[39;00m \u001B[38;5;28;01mNone\u001B[39;00m:\n",
      "File \u001B[0;32m~/anaconda3/envs/genai/lib/python3.10/site-packages/neo4j/_work/query.py:144\u001B[0m, in \u001B[0;36munit_of_work.<locals>.wrapper.<locals>.wrapped\u001B[0;34m(*args, **kwargs)\u001B[0m\n\u001B[1;32m    143\u001B[0m \u001B[38;5;28;01mdef\u001B[39;00m\u001B[38;5;250m \u001B[39m\u001B[38;5;21mwrapped\u001B[39m(\u001B[38;5;241m*\u001B[39margs, \u001B[38;5;241m*\u001B[39m\u001B[38;5;241m*\u001B[39mkwargs):\n\u001B[0;32m--> 144\u001B[0m     \u001B[38;5;28;01mreturn\u001B[39;00m \u001B[43mf\u001B[49m\u001B[43m(\u001B[49m\u001B[38;5;241;43m*\u001B[39;49m\u001B[43margs\u001B[49m\u001B[43m,\u001B[49m\u001B[43m \u001B[49m\u001B[38;5;241;43m*\u001B[39;49m\u001B[38;5;241;43m*\u001B[39;49m\u001B[43mkwargs\u001B[49m\u001B[43m)\u001B[49m\n",
      "File \u001B[0;32m~/anaconda3/envs/genai/lib/python3.10/site-packages/neo4j/_sync/driver.py:1306\u001B[0m, in \u001B[0;36m_work\u001B[0;34m(tx, query, parameters, transformer)\u001B[0m\n\u001B[1;32m   1300\u001B[0m \u001B[38;5;28;01mdef\u001B[39;00m\u001B[38;5;250m \u001B[39m\u001B[38;5;21m_work\u001B[39m(\n\u001B[1;32m   1301\u001B[0m     tx: ManagedTransaction,\n\u001B[1;32m   1302\u001B[0m     query: te\u001B[38;5;241m.\u001B[39mLiteralString,\n\u001B[1;32m   1303\u001B[0m     parameters: \u001B[38;5;28mdict\u001B[39m[\u001B[38;5;28mstr\u001B[39m, t\u001B[38;5;241m.\u001B[39mAny],\n\u001B[1;32m   1304\u001B[0m     transformer: t\u001B[38;5;241m.\u001B[39mCallable[[Result], t\u001B[38;5;241m.\u001B[39mUnion[_T]],\n\u001B[1;32m   1305\u001B[0m ) \u001B[38;5;241m-\u001B[39m\u001B[38;5;241m>\u001B[39m _T:\n\u001B[0;32m-> 1306\u001B[0m     res \u001B[38;5;241m=\u001B[39m \u001B[43mtx\u001B[49m\u001B[38;5;241;43m.\u001B[39;49m\u001B[43mrun\u001B[49m\u001B[43m(\u001B[49m\u001B[43mquery\u001B[49m\u001B[43m,\u001B[49m\u001B[43m \u001B[49m\u001B[43mparameters\u001B[49m\u001B[43m)\u001B[49m\n\u001B[1;32m   1307\u001B[0m     \u001B[38;5;28;01mreturn\u001B[39;00m transformer(res)\n",
      "File \u001B[0;32m~/anaconda3/envs/genai/lib/python3.10/site-packages/neo4j/_sync/work/transaction.py:206\u001B[0m, in \u001B[0;36mTransactionBase.run\u001B[0;34m(self, query, parameters, **kwparameters)\u001B[0m\n\u001B[1;32m    203\u001B[0m \u001B[38;5;28mself\u001B[39m\u001B[38;5;241m.\u001B[39m_results\u001B[38;5;241m.\u001B[39mappend(result)\n\u001B[1;32m    205\u001B[0m parameters \u001B[38;5;241m=\u001B[39m \u001B[38;5;28mdict\u001B[39m(parameters \u001B[38;5;129;01mor\u001B[39;00m {}, \u001B[38;5;241m*\u001B[39m\u001B[38;5;241m*\u001B[39mkwparameters)\n\u001B[0;32m--> 206\u001B[0m \u001B[43mresult\u001B[49m\u001B[38;5;241;43m.\u001B[39;49m\u001B[43m_tx_ready_run\u001B[49m\u001B[43m(\u001B[49m\u001B[43mquery\u001B[49m\u001B[43m,\u001B[49m\u001B[43m \u001B[49m\u001B[43mparameters\u001B[49m\u001B[43m)\u001B[49m\n\u001B[1;32m    208\u001B[0m \u001B[38;5;28;01mreturn\u001B[39;00m result\n",
      "File \u001B[0;32m~/anaconda3/envs/genai/lib/python3.10/site-packages/neo4j/_sync/work/result.py:177\u001B[0m, in \u001B[0;36mResult._tx_ready_run\u001B[0;34m(self, query, parameters)\u001B[0m\n\u001B[1;32m    173\u001B[0m \u001B[38;5;28;01mdef\u001B[39;00m\u001B[38;5;250m \u001B[39m\u001B[38;5;21m_tx_ready_run\u001B[39m(\u001B[38;5;28mself\u001B[39m, query, parameters):\n\u001B[1;32m    174\u001B[0m     \u001B[38;5;66;03m# BEGIN+RUN does not carry any extra on the RUN message.\u001B[39;00m\n\u001B[1;32m    175\u001B[0m     \u001B[38;5;66;03m# BEGIN {extra}\u001B[39;00m\n\u001B[1;32m    176\u001B[0m     \u001B[38;5;66;03m# RUN \"query\" {parameters} {extra}\u001B[39;00m\n\u001B[0;32m--> 177\u001B[0m     \u001B[38;5;28;43mself\u001B[39;49m\u001B[38;5;241;43m.\u001B[39;49m\u001B[43m_run\u001B[49m\u001B[43m(\u001B[49m\u001B[43mquery\u001B[49m\u001B[43m,\u001B[49m\u001B[43m \u001B[49m\u001B[43mparameters\u001B[49m\u001B[43m,\u001B[49m\u001B[43m \u001B[49m\u001B[38;5;28;43;01mNone\u001B[39;49;00m\u001B[43m,\u001B[49m\u001B[43m \u001B[49m\u001B[38;5;28;43;01mNone\u001B[39;49;00m\u001B[43m,\u001B[49m\u001B[43m \u001B[49m\u001B[38;5;28;43;01mNone\u001B[39;49;00m\u001B[43m,\u001B[49m\u001B[43m \u001B[49m\u001B[38;5;28;43;01mNone\u001B[39;49;00m\u001B[43m,\u001B[49m\u001B[43m \u001B[49m\u001B[38;5;28;43;01mNone\u001B[39;49;00m\u001B[43m,\u001B[49m\u001B[43m \u001B[49m\u001B[38;5;28;43;01mNone\u001B[39;49;00m\u001B[43m)\u001B[49m\n",
      "File \u001B[0;32m~/anaconda3/envs/genai/lib/python3.10/site-packages/neo4j/_sync/work/result.py:236\u001B[0m, in \u001B[0;36mResult._run\u001B[0;34m(self, query, parameters, db, imp_user, access_mode, bookmarks, notifications_min_severity, notifications_disabled_classifications)\u001B[0m\n\u001B[1;32m    234\u001B[0m \u001B[38;5;28mself\u001B[39m\u001B[38;5;241m.\u001B[39m_pull()\n\u001B[1;32m    235\u001B[0m \u001B[38;5;28mself\u001B[39m\u001B[38;5;241m.\u001B[39m_connection\u001B[38;5;241m.\u001B[39msend_all()\n\u001B[0;32m--> 236\u001B[0m \u001B[38;5;28;43mself\u001B[39;49m\u001B[38;5;241;43m.\u001B[39;49m\u001B[43m_attach\u001B[49m\u001B[43m(\u001B[49m\u001B[43m)\u001B[49m\n",
      "File \u001B[0;32m~/anaconda3/envs/genai/lib/python3.10/site-packages/neo4j/_sync/work/result.py:430\u001B[0m, in \u001B[0;36mResult._attach\u001B[0;34m(self)\u001B[0m\n\u001B[1;32m    428\u001B[0m \u001B[38;5;28;01mif\u001B[39;00m \u001B[38;5;28mself\u001B[39m\u001B[38;5;241m.\u001B[39m_exhausted \u001B[38;5;129;01mis\u001B[39;00m \u001B[38;5;28;01mFalse\u001B[39;00m:\n\u001B[1;32m    429\u001B[0m     \u001B[38;5;28;01mwhile\u001B[39;00m \u001B[38;5;28mself\u001B[39m\u001B[38;5;241m.\u001B[39m_attached \u001B[38;5;129;01mis\u001B[39;00m \u001B[38;5;28;01mFalse\u001B[39;00m:\n\u001B[0;32m--> 430\u001B[0m         \u001B[38;5;28;43mself\u001B[39;49m\u001B[38;5;241;43m.\u001B[39;49m\u001B[43m_connection\u001B[49m\u001B[38;5;241;43m.\u001B[39;49m\u001B[43mfetch_message\u001B[49m\u001B[43m(\u001B[49m\u001B[43m)\u001B[49m\n",
      "File \u001B[0;32m~/anaconda3/envs/genai/lib/python3.10/site-packages/neo4j/_sync/io/_common.py:184\u001B[0m, in \u001B[0;36mConnectionErrorHandler.__getattr__.<locals>.outer.<locals>.inner\u001B[0;34m(*args, **kwargs)\u001B[0m\n\u001B[1;32m    182\u001B[0m \u001B[38;5;28;01mdef\u001B[39;00m\u001B[38;5;250m \u001B[39m\u001B[38;5;21minner\u001B[39m(\u001B[38;5;241m*\u001B[39margs, \u001B[38;5;241m*\u001B[39m\u001B[38;5;241m*\u001B[39mkwargs):\n\u001B[1;32m    183\u001B[0m     \u001B[38;5;28;01mtry\u001B[39;00m:\n\u001B[0;32m--> 184\u001B[0m         \u001B[43mfunc\u001B[49m\u001B[43m(\u001B[49m\u001B[38;5;241;43m*\u001B[39;49m\u001B[43margs\u001B[49m\u001B[43m,\u001B[49m\u001B[43m \u001B[49m\u001B[38;5;241;43m*\u001B[39;49m\u001B[38;5;241;43m*\u001B[39;49m\u001B[43mkwargs\u001B[49m\u001B[43m)\u001B[49m\n\u001B[1;32m    185\u001B[0m     \u001B[38;5;28;01mexcept\u001B[39;00m (Neo4jError, ServiceUnavailable, SessionExpired) \u001B[38;5;28;01mas\u001B[39;00m exc:\n\u001B[1;32m    186\u001B[0m         \u001B[38;5;28;01massert\u001B[39;00m \u001B[38;5;129;01mnot\u001B[39;00m asyncio\u001B[38;5;241m.\u001B[39miscoroutinefunction(\u001B[38;5;28mself\u001B[39m\u001B[38;5;241m.\u001B[39m__on_error)\n",
      "File \u001B[0;32m~/anaconda3/envs/genai/lib/python3.10/site-packages/neo4j/_sync/io/_bolt.py:864\u001B[0m, in \u001B[0;36mBolt.fetch_message\u001B[0;34m(self)\u001B[0m\n\u001B[1;32m    860\u001B[0m \u001B[38;5;66;03m# Receive exactly one message\u001B[39;00m\n\u001B[1;32m    861\u001B[0m tag, fields \u001B[38;5;241m=\u001B[39m \u001B[38;5;28mself\u001B[39m\u001B[38;5;241m.\u001B[39minbox\u001B[38;5;241m.\u001B[39mpop(\n\u001B[1;32m    862\u001B[0m     hydration_hooks\u001B[38;5;241m=\u001B[39m\u001B[38;5;28mself\u001B[39m\u001B[38;5;241m.\u001B[39mresponses[\u001B[38;5;241m0\u001B[39m]\u001B[38;5;241m.\u001B[39mhydration_hooks\n\u001B[1;32m    863\u001B[0m )\n\u001B[0;32m--> 864\u001B[0m res \u001B[38;5;241m=\u001B[39m \u001B[38;5;28;43mself\u001B[39;49m\u001B[38;5;241;43m.\u001B[39;49m\u001B[43m_process_message\u001B[49m\u001B[43m(\u001B[49m\u001B[43mtag\u001B[49m\u001B[43m,\u001B[49m\u001B[43m \u001B[49m\u001B[43mfields\u001B[49m\u001B[43m)\u001B[49m\n\u001B[1;32m    865\u001B[0m \u001B[38;5;28mself\u001B[39m\u001B[38;5;241m.\u001B[39midle_since \u001B[38;5;241m=\u001B[39m monotonic()\n\u001B[1;32m    866\u001B[0m \u001B[38;5;28;01mreturn\u001B[39;00m res\n",
      "File \u001B[0;32m~/anaconda3/envs/genai/lib/python3.10/site-packages/neo4j/_sync/io/_bolt5.py:1208\u001B[0m, in \u001B[0;36mBolt5x7._process_message\u001B[0;34m(self, tag, fields)\u001B[0m\n\u001B[1;32m   1206\u001B[0m \u001B[38;5;28mself\u001B[39m\u001B[38;5;241m.\u001B[39m_enrich_error_diagnostic_record(summary_metadata)\n\u001B[1;32m   1207\u001B[0m \u001B[38;5;28;01mtry\u001B[39;00m:\n\u001B[0;32m-> 1208\u001B[0m     \u001B[43mresponse\u001B[49m\u001B[38;5;241;43m.\u001B[39;49m\u001B[43mon_failure\u001B[49m\u001B[43m(\u001B[49m\u001B[43msummary_metadata\u001B[49m\u001B[43m \u001B[49m\u001B[38;5;129;43;01mor\u001B[39;49;00m\u001B[43m \u001B[49m\u001B[43m{\u001B[49m\u001B[43m}\u001B[49m\u001B[43m)\u001B[49m\n\u001B[1;32m   1209\u001B[0m \u001B[38;5;28;01mexcept\u001B[39;00m (ServiceUnavailable, DatabaseUnavailable):\n\u001B[1;32m   1210\u001B[0m     \u001B[38;5;28;01mif\u001B[39;00m \u001B[38;5;28mself\u001B[39m\u001B[38;5;241m.\u001B[39mpool:\n",
      "File \u001B[0;32m~/anaconda3/envs/genai/lib/python3.10/site-packages/neo4j/_sync/io/_common.py:254\u001B[0m, in \u001B[0;36mResponse.on_failure\u001B[0;34m(self, metadata)\u001B[0m\n\u001B[1;32m    252\u001B[0m handler \u001B[38;5;241m=\u001B[39m \u001B[38;5;28mself\u001B[39m\u001B[38;5;241m.\u001B[39mhandlers\u001B[38;5;241m.\u001B[39mget(\u001B[38;5;124m\"\u001B[39m\u001B[38;5;124mon_summary\u001B[39m\u001B[38;5;124m\"\u001B[39m)\n\u001B[1;32m    253\u001B[0m Util\u001B[38;5;241m.\u001B[39mcallback(handler)\n\u001B[0;32m--> 254\u001B[0m \u001B[38;5;28;01mraise\u001B[39;00m \u001B[38;5;28mself\u001B[39m\u001B[38;5;241m.\u001B[39m_hydrate_error(metadata)\n",
      "\u001B[0;31mCypherSyntaxError\u001B[0m: {code: Neo.ClientError.Statement.SyntaxError} {message: Invalid input '|': expected ')' or 'WHERE' (line 1, column 84 (offset: 83))\n\"MATCH (:Crime {type: \"burglary\"})-[:HAS_CHECKLIST]->(:Checklist {type: \"Suspects\"} |-[:HAS_CHUNK]->(ChunkInfo:Chunk)\"\n                                                                                    ^}"
     ]
    }
   ],
   "execution_count": 6
  },
  {
   "metadata": {
    "ExecuteTime": {
     "end_time": "2025-07-21T12:47:13.374724Z",
     "start_time": "2025-07-21T12:46:42.227679Z"
    }
   },
   "cell_type": "code",
   "source": [
    "Vector_RAG = query_vector_rag(\n",
    "    question=question,\n",
    "    vector_index_name=vector_index_name,\n",
    "    vector_node_label=vector_node_label,\n",
    "    vector_source_property=vector_source_property,\n",
    "    vector_embedding_property=vector_embedding_property\n",
    "    )\n",
    "print(Vector_RAG)"
   ],
   "outputs": [
    {
     "name": "stderr",
     "output_type": "stream",
     "text": [
      "/home/dev/anaconda3/envs/genai/lib/python3.10/site-packages/langsmith/client.py:272: LangSmithMissingAPIKeyWarning: API key must be provided when using hosted LangSmith API\n",
      "  warnings.warn(\n"
     ]
    },
    {
     "name": "stdout",
     "output_type": "stream",
     "text": [
      "Based on the context provided, here's what you can do:  1.\n",
      "Take the victim/witnesses on a drive around to identify\n",
      "suspect(s). This might help you get a description of the\n",
      "suspect and their vehicle. 2. Know your local handling\n",
      "locations (utilise MetInsights) - search the areas for\n",
      "suspects and property stolen. This could lead you to\n",
      "potential hiding spots or places where the suspect may have\n",
      "left evidence behind. 3. Research and record any relevant\n",
      "intelligence, use CONNECT Intelligence e.g. MO. Tool marks\n",
      "found at scene may assist with linked series offending. This\n",
      "might help you identify any distinctive features of the\n",
      "suspect's tools or vehicle that can be used to track them\n",
      "down.  Additionally, if you know the route taken by the\n",
      "suspect, you could concentrate on that area and search for\n",
      "any clues or evidence that might have been left behind.\n"
     ]
    }
   ],
   "execution_count": 4
  },
  {
   "metadata": {},
   "cell_type": "code",
   "outputs": [],
   "execution_count": null,
   "source": ""
  }
 ],
 "metadata": {
  "language_info": {
   "name": "python"
  },
  "kernelspec": {
   "name": "genai",
   "language": "python",
   "display_name": "genai"
  }
 },
 "nbformat": 4,
 "nbformat_minor": 2
}
