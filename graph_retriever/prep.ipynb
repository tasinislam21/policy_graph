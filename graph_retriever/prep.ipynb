{
 "cells": [
  {
   "cell_type": "code",
   "metadata": {
    "ExecuteTime": {
     "end_time": "2025-07-11T16:47:37.499863Z",
     "start_time": "2025-07-11T16:47:36.219371Z"
    }
   },
   "source": [
    "from KG.kg import ingest_Chunks, embed_text, create_nodes, create_relationship, create_vector_index\n",
    "from KG.chunking import split_data_from_file\n",
    "from KG.config import load_neo4j_graph\n",
    "import json\n",
    "graph = load_neo4j_graph()"
   ],
   "outputs": [],
   "execution_count": 1
  },
  {
   "cell_type": "markdown",
   "metadata": {},
   "source": [
    "#### Ingest main nodes and chunk data"
   ]
  },
  {
   "cell_type": "code",
   "metadata": {
    "ExecuteTime": {
     "end_time": "2025-07-11T16:48:22.235232Z",
     "start_time": "2025-07-11T16:47:38.760050Z"
    }
   },
   "source": [
    "file_names = [\"Talleyrand\", \"Napoleon\", \"Battle_of_Waterloo\"]\n",
    "\n",
    "for name in file_names:\n",
    "    #  Load JSON file\n",
    "    file = f\"Data/{name}.json\"\n",
    "    # Chunking\n",
    "    chunks = split_data_from_file(file)\n",
    "    # Assuming `file` is a path to your JSON file\n",
    "    with open(file, 'r', encoding='utf-8') as f:\n",
    "        data = json.load(f)\n",
    "\n",
    "    if name == \"Battle_of_Waterloo\":\n",
    "        create_nodes(graph=graph, data=data, node_label=\"Event\", node_name=name)\n",
    "    else:\n",
    "        create_nodes(graph=graph, data=data, node_label=\"Person\", node_name=name)\n",
    "    # Ingest Chunks\n",
    "    ingest_Chunks(graph=graph, chunks=chunks, node_name=name, node_label='Chunk')"
   ],
   "outputs": [
    {
     "name": "stdout",
     "output_type": "stream",
     "text": [
      "['General Information', 'Career', 'Death']\n",
      "Processing General Information from Data/Talleyrand.json\n",
      "\tSplit into 12 chunks\n",
      "Processing Career from Data/Talleyrand.json\n",
      "\tSplit into 13 chunks\n",
      "Processing Death from Data/Talleyrand.json\n",
      "\tSplit into 1 chunks\n",
      "Creating `:Chunk` node for chunk ID Talleyrand-General Information-chunk0000\n",
      "Creating `:Chunk` node for chunk ID Talleyrand-General Information-chunk0001\n",
      "Creating `:Chunk` node for chunk ID Talleyrand-General Information-chunk0002\n",
      "Creating `:Chunk` node for chunk ID Talleyrand-General Information-chunk0003\n",
      "Creating `:Chunk` node for chunk ID Talleyrand-General Information-chunk0004\n",
      "Creating `:Chunk` node for chunk ID Talleyrand-General Information-chunk0005\n",
      "Creating `:Chunk` node for chunk ID Talleyrand-General Information-chunk0006\n",
      "Creating `:Chunk` node for chunk ID Talleyrand-General Information-chunk0007\n",
      "Creating `:Chunk` node for chunk ID Talleyrand-General Information-chunk0008\n",
      "Creating `:Chunk` node for chunk ID Talleyrand-General Information-chunk0009\n",
      "Creating `:Chunk` node for chunk ID Talleyrand-General Information-chunk0010\n",
      "Creating `:Chunk` node for chunk ID Talleyrand-General Information-chunk0011\n",
      "Creating `:Chunk` node for chunk ID Talleyrand-Career-chunk0000\n",
      "Creating `:Chunk` node for chunk ID Talleyrand-Career-chunk0001\n",
      "Creating `:Chunk` node for chunk ID Talleyrand-Career-chunk0002\n",
      "Creating `:Chunk` node for chunk ID Talleyrand-Career-chunk0003\n",
      "Creating `:Chunk` node for chunk ID Talleyrand-Career-chunk0004\n",
      "Creating `:Chunk` node for chunk ID Talleyrand-Career-chunk0005\n",
      "Creating `:Chunk` node for chunk ID Talleyrand-Career-chunk0006\n",
      "Creating `:Chunk` node for chunk ID Talleyrand-Career-chunk0007\n",
      "Creating `:Chunk` node for chunk ID Talleyrand-Career-chunk0008\n",
      "Creating `:Chunk` node for chunk ID Talleyrand-Career-chunk0009\n",
      "Creating `:Chunk` node for chunk ID Talleyrand-Career-chunk0010\n",
      "Creating `:Chunk` node for chunk ID Talleyrand-Career-chunk0011\n",
      "Creating `:Chunk` node for chunk ID Talleyrand-Career-chunk0012\n",
      "Creating `:Chunk` node for chunk ID Talleyrand-Death-chunk0000\n",
      "Created 26 nodes\n",
      "['General Information', 'Career', 'Death']\n",
      "Processing General Information from Data/Napoleon.json\n",
      "\tSplit into 18 chunks\n",
      "Processing Career from Data/Napoleon.json\n",
      "\tSplit into 34 chunks\n",
      "Processing Death from Data/Napoleon.json\n",
      "\tSplit into 8 chunks\n",
      "Creating `:Chunk` node for chunk ID Napoleon-General Information-chunk0000\n",
      "Creating `:Chunk` node for chunk ID Napoleon-General Information-chunk0001\n",
      "Creating `:Chunk` node for chunk ID Napoleon-General Information-chunk0002\n",
      "Creating `:Chunk` node for chunk ID Napoleon-General Information-chunk0003\n",
      "Creating `:Chunk` node for chunk ID Napoleon-General Information-chunk0004\n",
      "Creating `:Chunk` node for chunk ID Napoleon-General Information-chunk0005\n",
      "Creating `:Chunk` node for chunk ID Napoleon-General Information-chunk0006\n",
      "Creating `:Chunk` node for chunk ID Napoleon-General Information-chunk0007\n",
      "Creating `:Chunk` node for chunk ID Napoleon-General Information-chunk0008\n",
      "Creating `:Chunk` node for chunk ID Napoleon-General Information-chunk0009\n",
      "Creating `:Chunk` node for chunk ID Napoleon-General Information-chunk0010\n",
      "Creating `:Chunk` node for chunk ID Napoleon-General Information-chunk0011\n",
      "Creating `:Chunk` node for chunk ID Napoleon-General Information-chunk0012\n",
      "Creating `:Chunk` node for chunk ID Napoleon-General Information-chunk0013\n",
      "Creating `:Chunk` node for chunk ID Napoleon-General Information-chunk0014\n",
      "Creating `:Chunk` node for chunk ID Napoleon-General Information-chunk0015\n",
      "Creating `:Chunk` node for chunk ID Napoleon-General Information-chunk0016\n",
      "Creating `:Chunk` node for chunk ID Napoleon-General Information-chunk0017\n",
      "Creating `:Chunk` node for chunk ID Napoleon-Career-chunk0000\n",
      "Creating `:Chunk` node for chunk ID Napoleon-Career-chunk0001\n",
      "Creating `:Chunk` node for chunk ID Napoleon-Career-chunk0002\n",
      "Creating `:Chunk` node for chunk ID Napoleon-Career-chunk0003\n",
      "Creating `:Chunk` node for chunk ID Napoleon-Career-chunk0004\n",
      "Creating `:Chunk` node for chunk ID Napoleon-Career-chunk0005\n",
      "Creating `:Chunk` node for chunk ID Napoleon-Career-chunk0006\n",
      "Creating `:Chunk` node for chunk ID Napoleon-Career-chunk0007\n",
      "Creating `:Chunk` node for chunk ID Napoleon-Career-chunk0008\n",
      "Creating `:Chunk` node for chunk ID Napoleon-Career-chunk0009\n",
      "Creating `:Chunk` node for chunk ID Napoleon-Career-chunk0010\n",
      "Creating `:Chunk` node for chunk ID Napoleon-Career-chunk0011\n",
      "Creating `:Chunk` node for chunk ID Napoleon-Career-chunk0012\n",
      "Creating `:Chunk` node for chunk ID Napoleon-Career-chunk0013\n",
      "Creating `:Chunk` node for chunk ID Napoleon-Career-chunk0014\n",
      "Creating `:Chunk` node for chunk ID Napoleon-Career-chunk0015\n",
      "Creating `:Chunk` node for chunk ID Napoleon-Career-chunk0016\n",
      "Creating `:Chunk` node for chunk ID Napoleon-Career-chunk0017\n",
      "Creating `:Chunk` node for chunk ID Napoleon-Career-chunk0018\n",
      "Creating `:Chunk` node for chunk ID Napoleon-Career-chunk0019\n",
      "Creating `:Chunk` node for chunk ID Napoleon-Career-chunk0020\n",
      "Creating `:Chunk` node for chunk ID Napoleon-Career-chunk0021\n",
      "Creating `:Chunk` node for chunk ID Napoleon-Career-chunk0022\n",
      "Creating `:Chunk` node for chunk ID Napoleon-Career-chunk0023\n",
      "Creating `:Chunk` node for chunk ID Napoleon-Career-chunk0024\n",
      "Creating `:Chunk` node for chunk ID Napoleon-Career-chunk0025\n",
      "Creating `:Chunk` node for chunk ID Napoleon-Career-chunk0026\n",
      "Creating `:Chunk` node for chunk ID Napoleon-Career-chunk0027\n",
      "Creating `:Chunk` node for chunk ID Napoleon-Career-chunk0028\n",
      "Creating `:Chunk` node for chunk ID Napoleon-Career-chunk0029\n",
      "Creating `:Chunk` node for chunk ID Napoleon-Career-chunk0030\n",
      "Creating `:Chunk` node for chunk ID Napoleon-Career-chunk0031\n",
      "Creating `:Chunk` node for chunk ID Napoleon-Career-chunk0032\n",
      "Creating `:Chunk` node for chunk ID Napoleon-Career-chunk0033\n",
      "Creating `:Chunk` node for chunk ID Napoleon-Death-chunk0000\n",
      "Creating `:Chunk` node for chunk ID Napoleon-Death-chunk0001\n",
      "Creating `:Chunk` node for chunk ID Napoleon-Death-chunk0002\n",
      "Creating `:Chunk` node for chunk ID Napoleon-Death-chunk0003\n",
      "Creating `:Chunk` node for chunk ID Napoleon-Death-chunk0004\n",
      "Creating `:Chunk` node for chunk ID Napoleon-Death-chunk0005\n",
      "Creating `:Chunk` node for chunk ID Napoleon-Death-chunk0006\n",
      "Creating `:Chunk` node for chunk ID Napoleon-Death-chunk0007\n",
      "Created 60 nodes\n",
      "['General information', 'Reason', 'Combatant', 'Consequence']\n",
      "Processing General information from Data/Battle_of_Waterloo.json\n",
      "\tSplit into 5 chunks\n",
      "Processing Reason from Data/Battle_of_Waterloo.json\n",
      "\tSplit into 5 chunks\n",
      "Processing Combatant from Data/Battle_of_Waterloo.json\n",
      "\tSplit into 23 chunks\n",
      "Processing Consequence from Data/Battle_of_Waterloo.json\n",
      "\tSplit into 28 chunks\n",
      "Creating `:Chunk` node for chunk ID Battle_of_Waterloo-General information-chunk0000\n",
      "Creating `:Chunk` node for chunk ID Battle_of_Waterloo-General information-chunk0001\n",
      "Creating `:Chunk` node for chunk ID Battle_of_Waterloo-General information-chunk0002\n",
      "Creating `:Chunk` node for chunk ID Battle_of_Waterloo-General information-chunk0003\n",
      "Creating `:Chunk` node for chunk ID Battle_of_Waterloo-General information-chunk0004\n",
      "Creating `:Chunk` node for chunk ID Battle_of_Waterloo-Reason-chunk0000\n",
      "Creating `:Chunk` node for chunk ID Battle_of_Waterloo-Reason-chunk0001\n",
      "Creating `:Chunk` node for chunk ID Battle_of_Waterloo-Reason-chunk0002\n",
      "Creating `:Chunk` node for chunk ID Battle_of_Waterloo-Reason-chunk0003\n",
      "Creating `:Chunk` node for chunk ID Battle_of_Waterloo-Reason-chunk0004\n",
      "Creating `:Chunk` node for chunk ID Battle_of_Waterloo-Combatant-chunk0000\n",
      "Creating `:Chunk` node for chunk ID Battle_of_Waterloo-Combatant-chunk0001\n",
      "Creating `:Chunk` node for chunk ID Battle_of_Waterloo-Combatant-chunk0002\n",
      "Creating `:Chunk` node for chunk ID Battle_of_Waterloo-Combatant-chunk0003\n",
      "Creating `:Chunk` node for chunk ID Battle_of_Waterloo-Combatant-chunk0004\n",
      "Creating `:Chunk` node for chunk ID Battle_of_Waterloo-Combatant-chunk0005\n",
      "Creating `:Chunk` node for chunk ID Battle_of_Waterloo-Combatant-chunk0006\n",
      "Creating `:Chunk` node for chunk ID Battle_of_Waterloo-Combatant-chunk0007\n",
      "Creating `:Chunk` node for chunk ID Battle_of_Waterloo-Combatant-chunk0008\n",
      "Creating `:Chunk` node for chunk ID Battle_of_Waterloo-Combatant-chunk0009\n",
      "Creating `:Chunk` node for chunk ID Battle_of_Waterloo-Combatant-chunk0010\n",
      "Creating `:Chunk` node for chunk ID Battle_of_Waterloo-Combatant-chunk0011\n",
      "Creating `:Chunk` node for chunk ID Battle_of_Waterloo-Combatant-chunk0012\n",
      "Creating `:Chunk` node for chunk ID Battle_of_Waterloo-Combatant-chunk0013\n",
      "Creating `:Chunk` node for chunk ID Battle_of_Waterloo-Combatant-chunk0014\n",
      "Creating `:Chunk` node for chunk ID Battle_of_Waterloo-Combatant-chunk0015\n",
      "Creating `:Chunk` node for chunk ID Battle_of_Waterloo-Combatant-chunk0016\n",
      "Creating `:Chunk` node for chunk ID Battle_of_Waterloo-Combatant-chunk0017\n",
      "Creating `:Chunk` node for chunk ID Battle_of_Waterloo-Combatant-chunk0018\n",
      "Creating `:Chunk` node for chunk ID Battle_of_Waterloo-Combatant-chunk0019\n",
      "Creating `:Chunk` node for chunk ID Battle_of_Waterloo-Combatant-chunk0020\n",
      "Creating `:Chunk` node for chunk ID Battle_of_Waterloo-Combatant-chunk0021\n",
      "Creating `:Chunk` node for chunk ID Battle_of_Waterloo-Combatant-chunk0022\n",
      "Creating `:Chunk` node for chunk ID Battle_of_Waterloo-Consequence-chunk0000\n",
      "Creating `:Chunk` node for chunk ID Battle_of_Waterloo-Consequence-chunk0001\n",
      "Creating `:Chunk` node for chunk ID Battle_of_Waterloo-Consequence-chunk0002\n",
      "Creating `:Chunk` node for chunk ID Battle_of_Waterloo-Consequence-chunk0003\n",
      "Creating `:Chunk` node for chunk ID Battle_of_Waterloo-Consequence-chunk0004\n",
      "Creating `:Chunk` node for chunk ID Battle_of_Waterloo-Consequence-chunk0005\n",
      "Creating `:Chunk` node for chunk ID Battle_of_Waterloo-Consequence-chunk0006\n",
      "Creating `:Chunk` node for chunk ID Battle_of_Waterloo-Consequence-chunk0007\n",
      "Creating `:Chunk` node for chunk ID Battle_of_Waterloo-Consequence-chunk0008\n",
      "Creating `:Chunk` node for chunk ID Battle_of_Waterloo-Consequence-chunk0009\n",
      "Creating `:Chunk` node for chunk ID Battle_of_Waterloo-Consequence-chunk0010\n",
      "Creating `:Chunk` node for chunk ID Battle_of_Waterloo-Consequence-chunk0011\n",
      "Creating `:Chunk` node for chunk ID Battle_of_Waterloo-Consequence-chunk0012\n",
      "Creating `:Chunk` node for chunk ID Battle_of_Waterloo-Consequence-chunk0013\n",
      "Creating `:Chunk` node for chunk ID Battle_of_Waterloo-Consequence-chunk0014\n",
      "Creating `:Chunk` node for chunk ID Battle_of_Waterloo-Consequence-chunk0015\n",
      "Creating `:Chunk` node for chunk ID Battle_of_Waterloo-Consequence-chunk0016\n",
      "Creating `:Chunk` node for chunk ID Battle_of_Waterloo-Consequence-chunk0017\n",
      "Creating `:Chunk` node for chunk ID Battle_of_Waterloo-Consequence-chunk0018\n",
      "Creating `:Chunk` node for chunk ID Battle_of_Waterloo-Consequence-chunk0019\n",
      "Creating `:Chunk` node for chunk ID Battle_of_Waterloo-Consequence-chunk0020\n",
      "Creating `:Chunk` node for chunk ID Battle_of_Waterloo-Consequence-chunk0021\n",
      "Creating `:Chunk` node for chunk ID Battle_of_Waterloo-Consequence-chunk0022\n",
      "Creating `:Chunk` node for chunk ID Battle_of_Waterloo-Consequence-chunk0023\n",
      "Creating `:Chunk` node for chunk ID Battle_of_Waterloo-Consequence-chunk0024\n",
      "Creating `:Chunk` node for chunk ID Battle_of_Waterloo-Consequence-chunk0025\n",
      "Creating `:Chunk` node for chunk ID Battle_of_Waterloo-Consequence-chunk0026\n",
      "Creating `:Chunk` node for chunk ID Battle_of_Waterloo-Consequence-chunk0027\n",
      "Created 61 nodes\n"
     ]
    }
   ],
   "execution_count": 2
  },
  {
   "cell_type": "markdown",
   "metadata": {},
   "source": [
    "#### Add relationships"
   ]
  },
  {
   "cell_type": "code",
   "metadata": {
    "ExecuteTime": {
     "end_time": "2025-07-11T16:48:22.479046Z",
     "start_time": "2025-07-11T16:48:22.251102Z"
    }
   },
   "source": [
    "# Create relationship\n",
    "rel_section_chunk = \"\"\" \n",
    "MATCH (s:Section), (c:Chunk)\n",
    "WHERE s.type = c.source AND s.parent_name = c.node_name\n",
    "MERGE (s)-[:HAS_CHUNK]->(c);\n",
    "\n",
    "\"\"\"\n",
    "\n",
    "rel_person_person = \"\"\"\n",
    "MATCH (p1:Person), (p2:Person)\n",
    "WHERE id(p1) < id(p2)\n",
    "MERGE (p1)-[:RELATED_TO]->(p2)\n",
    "MERGE (p2)-[:RELATED_TO]->(p1);\n",
    "\n",
    "\"\"\"\n",
    "\n",
    "rel_person_event = \"\"\"\n",
    "MATCH (p:Person), (e:Event)\n",
    "MERGE (p)-[:RELATED_TO]->(e)\n",
    "MERGE (e)-[:RELATED_TO]->(p);\n",
    "\n",
    "\"\"\"\n",
    "\n",
    "rel_person_section = \"\"\"\n",
    "MATCH (p:Person), (s:Section)\n",
    "WHERE p.name = s.parent_name\n",
    "MERGE (p)-[:HAS_SECTION]->(s);\n",
    "\n",
    "\"\"\"\n",
    "\n",
    "rel_event_section = \"\"\"\n",
    "MATCH (e:Event), (s:Section)\n",
    "WHERE e.name = s.parent_name\n",
    "MERGE (e)-[:HAS_SECTION]->(s);\n",
    "\n",
    "\"\"\"\n",
    "\n",
    "queries = [rel_section_chunk, rel_person_person, rel_person_event, rel_person_section, rel_event_section]\n",
    "\n",
    "for query in queries:\n",
    "    create_relationship(graph=graph, query=query)\n"
   ],
   "outputs": [
    {
     "name": "stderr",
     "output_type": "stream",
     "text": [
      "Received notification from DBMS server: {severity: WARNING} {code: Neo.ClientNotification.Statement.FeatureDeprecationWarning} {category: DEPRECATION} {title: This feature is deprecated and will be removed in future versions.} {description: The query used a deprecated function: `id`.} {position: line: 3, column: 7, offset: 38} for query: '\\nMATCH (p1:Person), (p2:Person)\\nWHERE id(p1) < id(p2)\\nMERGE (p1)-[:RELATED_TO]->(p2)\\nMERGE (p2)-[:RELATED_TO]->(p1);\\n\\n'\n",
      "Received notification from DBMS server: {severity: WARNING} {code: Neo.ClientNotification.Statement.FeatureDeprecationWarning} {category: DEPRECATION} {title: This feature is deprecated and will be removed in future versions.} {description: The query used a deprecated function: `id`.} {position: line: 3, column: 16, offset: 47} for query: '\\nMATCH (p1:Person), (p2:Person)\\nWHERE id(p1) < id(p2)\\nMERGE (p1)-[:RELATED_TO]->(p2)\\nMERGE (p2)-[:RELATED_TO]->(p1);\\n\\n'\n"
     ]
    }
   ],
   "execution_count": 3
  },
  {
   "cell_type": "markdown",
   "metadata": {},
   "source": [
    "#### First ingest all data and then create index"
   ]
  },
  {
   "cell_type": "code",
   "metadata": {
    "ExecuteTime": {
     "end_time": "2025-07-11T16:27:09.671791Z",
     "start_time": "2025-07-11T16:27:09.663245Z"
    }
   },
   "source": [
    "# Create Vector Index\n",
    "create_vector_index(graph=graph, index_name='Chunk')"
   ],
   "outputs": [],
   "execution_count": 6
  },
  {
   "metadata": {},
   "cell_type": "code",
   "outputs": [],
   "execution_count": null,
   "source": ""
  }
 ],
 "metadata": {
  "kernelspec": {
   "display_name": "DiT",
   "language": "python",
   "name": "dit"
  },
  "language_info": {
   "codemirror_mode": {
    "name": "ipython",
    "version": 3
   },
   "file_extension": ".py",
   "mimetype": "text/x-python",
   "name": "python",
   "nbconvert_exporter": "python",
   "pygments_lexer": "ipython3",
   "version": "3.12.4"
  }
 },
 "nbformat": 4,
 "nbformat_minor": 2
}
