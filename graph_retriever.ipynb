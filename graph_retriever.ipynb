{
 "cells": [
  {
   "cell_type": "code",
   "execution_count": null,
   "id": "initial_id",
   "metadata": {
    "collapsed": true
   },
   "outputs": [],
   "source": "from neo4j import GraphDatabase\n"
  },
  {
   "metadata": {},
   "cell_type": "code",
   "outputs": [],
   "execution_count": null,
   "source": [
    "driver = GraphDatabase.driver(\"bolt://localhost:7687\", auth=(\"neo4j\", \"qwerty12\"))\n",
    " \n",
    "def query_graph(trigger_word):\n",
    "    with driver.session() as session:\n",
    "        result = session.run(\"\"\"\n",
    "        MATCH (r:ChecklistRule) \n",
    "        WHERE toLower(r.TriggerPattern) CONTAINS toLower($word)\n",
    "        RETURN r.RuleID, r.Category, r.Description\n",
    "        \"\"\", word=trigger_word)\n",
    "        return result.data()"
   ],
   "id": "35255aac881aaf8d"
  }
 ],
 "metadata": {
  "kernelspec": {
   "display_name": "Python 3",
   "language": "python",
   "name": "python3"
  },
  "language_info": {
   "codemirror_mode": {
    "name": "ipython",
    "version": 2
   },
   "file_extension": ".py",
   "mimetype": "text/x-python",
   "name": "python",
   "nbconvert_exporter": "python",
   "pygments_lexer": "ipython2",
   "version": "2.7.6"
  }
 },
 "nbformat": 4,
 "nbformat_minor": 5
}
